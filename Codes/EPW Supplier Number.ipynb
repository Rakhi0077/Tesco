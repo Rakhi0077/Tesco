{
 "cells": [
  {
   "cell_type": "code",
   "execution_count": 8,
   "metadata": {},
   "outputs": [],
   "source": [
    "from fuzzywuzzy import fuzz \n",
    "from fuzzywuzzy import process \n",
    "import pandas as pd\n",
    "\n",
    "def checker(wrong_options,correct_options):\n",
    "\n",
    "    names_array=[]\n",
    "    ratio_array=[]    \n",
    "    for wrong_option in wrong_options:\n",
    "        if wrong_option in correct_options:\n",
    "           names_array.append(wrong_option)\n",
    "           ratio_array.append('100')\n",
    "        else:   \n",
    "            x=process.extractOne(wrong_option,correct_options,scorer=fuzz.token_set_ratio)\n",
    "            names_array.append(x[0])\n",
    "            ratio_array.append(x[1])\n",
    "    return names_array,ratio_array\n",
    "\n",
    "df_Original_List=pd.read_excel(r'C:\\Users\\IN22912959\\OneDrive - Tesco\\Documents\\Supplier Score Card\\Analysis\\TFMS analysis Template 12 08 2020.xlsx',sheet_name='Commercial Data')\n",
    "\n",
    "df_To_beMatched=pd.read_excel(r'C:\\Users\\IN22912959\\OneDrive - Tesco\\Documents\\Supplier Score Card\\Updates\\202032\\EPW Vlookup Match.xlsx',sheet_name='SQL Server Output')"
   ]
  },
  {
   "cell_type": "code",
   "execution_count": 9,
   "metadata": {},
   "outputs": [],
   "source": [
    "df_Original_List['Supplier_Name_3']=df_Original_List['Supplier_Name'].str.upper()\n",
    "df_To_beMatched['Supplier_Name_3']=df_To_beMatched['Supplier_Name'].str.upper()\n",
    "\n",
    "\n",
    "df_Original_List['Supplier_Name_3']=df_Original_List['Supplier_Name_3'].str.replace('LTD','').str.replace('LIMITED','')\n",
    "df_To_beMatched['Supplier_Name_3']=df_To_beMatched['Supplier_Name_3'].str.replace('LTD','').str.replace('LIMITED','')\n"
   ]
  },
  {
   "cell_type": "code",
   "execution_count": 10,
   "metadata": {},
   "outputs": [
    {
     "name": "stderr",
     "output_type": "stream",
     "text": [
      "WARNING:root:Applied processor reduces input query to empty string, all comparisons will have score 0. [Query: '######']\n"
     ]
    }
   ],
   "source": [
    "str2Match = df_To_beMatched['Supplier_Name_3'].fillna('######').tolist()\n",
    "       \n",
    "strOptions =df_Original_List['Supplier_Name_3'].fillna('######').tolist()\n",
    "name_match,ratio_match=checker(str2Match,strOptions)\n",
    "\n"
   ]
  },
  {
   "cell_type": "code",
   "execution_count": 11,
   "metadata": {},
   "outputs": [
    {
     "data": {
      "text/html": [
       "<div>\n",
       "<style scoped>\n",
       "    .dataframe tbody tr th:only-of-type {\n",
       "        vertical-align: middle;\n",
       "    }\n",
       "\n",
       "    .dataframe tbody tr th {\n",
       "        vertical-align: top;\n",
       "    }\n",
       "\n",
       "    .dataframe thead th {\n",
       "        text-align: right;\n",
       "    }\n",
       "</style>\n",
       "<table border=\"1\" class=\"dataframe\">\n",
       "  <thead>\n",
       "    <tr style=\"text-align: right;\">\n",
       "      <th></th>\n",
       "      <th>old_names</th>\n",
       "      <th>correct_names</th>\n",
       "      <th>correct_ratio</th>\n",
       "    </tr>\n",
       "  </thead>\n",
       "  <tbody>\n",
       "    <tr>\n",
       "      <th>0</th>\n",
       "      <td>KERRY FOODS CARRICKMACROSS SC4094</td>\n",
       "      <td>KERRY FOODS</td>\n",
       "      <td>100</td>\n",
       "    </tr>\n",
       "    <tr>\n",
       "      <th>1</th>\n",
       "      <td>MARLOW FOODS 14330</td>\n",
       "      <td>MARLOW FOODS</td>\n",
       "      <td>100</td>\n",
       "    </tr>\n",
       "  </tbody>\n",
       "</table>\n",
       "</div>"
      ],
      "text/plain": [
       "                           old_names  correct_names correct_ratio\n",
       "0  KERRY FOODS CARRICKMACROSS SC4094   KERRY FOODS            100\n",
       "1                 MARLOW FOODS 14330  MARLOW FOODS            100"
      ]
     },
     "execution_count": 11,
     "metadata": {},
     "output_type": "execute_result"
    }
   ],
   "source": [
    "df1 = pd.DataFrame()\n",
    "df1['old_names']=pd.Series(str2Match)\n",
    "df1['correct_names']=pd.Series(name_match)\n",
    "df1['correct_ratio']=pd.Series(ratio_match)\n",
    "df1.head(2)"
   ]
  },
  {
   "cell_type": "code",
   "execution_count": 6,
   "metadata": {},
   "outputs": [],
   "source": [
    "df1.to_excel('epw_output.xlsx')"
   ]
  },
  {
   "cell_type": "code",
   "execution_count": null,
   "metadata": {},
   "outputs": [],
   "source": []
  }
 ],
 "metadata": {
  "kernelspec": {
   "display_name": "Python 3",
   "language": "python",
   "name": "python3"
  },
  "language_info": {
   "codemirror_mode": {
    "name": "ipython",
    "version": 3
   },
   "file_extension": ".py",
   "mimetype": "text/x-python",
   "name": "python",
   "nbconvert_exporter": "python",
   "pygments_lexer": "ipython3",
   "version": "3.7.6"
  }
 },
 "nbformat": 4,
 "nbformat_minor": 4
}
