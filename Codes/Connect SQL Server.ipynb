{
 "cells": [
  {
   "cell_type": "code",
   "execution_count": 1,
   "metadata": {},
   "outputs": [
    {
     "name": "stdout",
     "output_type": "stream",
     "text": [
      "('SP0052', 'Prestasi Flour Mill (M) Sdn Bhd', 'ST0012', 'Prestasi Flour Mill (M) Sdn Bhd', 'Audit: TFMS - Maintenance V6', datetime.date(2019, 6, 14), 'Amber', 'Amber', datetime.date(2017, 2, 28), datetime.date(2017, 2, 21), datetime.date(2017, 2, 22), '21143', 'Completed', 'Active', 'MY Charlene Selvarathnam', 'Malaysia', 'Malaysia', 'MY / Grocery - Commodities')\n",
      "('SP0052', 'Prestasi Flour Mill (M) Sdn Bhd', 'ST0012', 'Prestasi Flour Mill (M) Sdn Bhd', 'Audit: TFMS - Maintenance V6', datetime.date(2019, 6, 14), 'Amber', 'Amber', datetime.date(2018, 7, 31), datetime.date(2018, 7, 24), datetime.date(2018, 7, 25), '104837', 'Completed', 'Active', 'MY Charlene Selvarathnam', 'Malaysia', 'Malaysia', 'MY / Grocery - Commodities')\n",
      "('SP0052', 'Prestasi Flour Mill (M) Sdn Bhd', 'ST0012', 'Prestasi Flour Mill (M) Sdn Bhd', 'Audit: Tesco Food Standard', datetime.date(2019, 6, 14), 'Amber', 'Amber', datetime.date(2019, 6, 21), datetime.date(2019, 6, 13), datetime.date(2019, 6, 14), '124929', 'Completed', 'Active', 'MY Charlene Selvarathnam', 'Malaysia', 'Malaysia', 'MY / Grocery - Commodities')\n",
      "('SP0032', 'Wing Seow Heng (Trading & Industrial) Sdn. Bhd.', 'ST0045', 'Yeong Chaur Shing Paper Mill Sdn. Bhd.', 'Audit: TNFMS - Maintenance V3', datetime.date(2019, 6, 12), 'Amber', 'Amber', datetime.date(2018, 6, 5), datetime.date(2018, 6, 5), datetime.date(2018, 6, 6), '104173', 'Completed', 'Active', 'MY Chen Poh Lian', 'Malaysia', 'Malaysia', 'MY / Grocery E - Health Care, Beauty, Paper Product, Personal Care')\n",
      "('SP0032', 'Wing Seow Heng (Trading & Industrial) Sdn. Bhd.', 'ST0045', 'Yeong Chaur Shing Paper Mill Sdn. Bhd.', 'Audit: Tesco Non Food Standard', datetime.date(2019, 6, 12), 'Amber', 'Amber', datetime.date(2019, 6, 19), datetime.date(2019, 6, 11), datetime.date(2019, 6, 12), '125029', 'Awaiting Corrective Action', 'Active', 'MY Chen Poh Lian', 'Malaysia', 'Malaysia', 'MY / Grocery E - Health Care, Beauty, Paper Product, Personal Care')\n",
      "('SP0004', 'Campton Marketing Sdn Bhd', 'ST0161', 'Yakin Sedap Sdn. Bhd.', 'Audit: TFMS - Maintenance V6', datetime.date(2018, 2, 6), 'Green', 'Amber', datetime.date(2017, 2, 28), datetime.date(2017, 2, 20), datetime.date(2017, 2, 21), '21082', 'Completed', 'Active', 'MY Yvonne Siow', 'Malaysia', 'Malaysia', 'MY / Essential')\n",
      "('SP0004', 'Campton Marketing Sdn Bhd', 'ST0161', 'Yakin Sedap Sdn. Bhd.', 'Audit: TFMS - Maintenance V6', datetime.date(2018, 2, 6), 'Green', 'Green', datetime.date(2018, 2, 28), datetime.date(2018, 2, 5), datetime.date(2018, 2, 6), '95481', 'Completed', 'Active', 'MY Yvonne Siow', 'Malaysia', 'Malaysia', 'MY / Essential')\n",
      "('SP0155', 'Soon Hup Edible Oils Sdn Bhd', 'ST0193', 'Soon Hup Edible Oils Sdn Bhd', 'Audit: TFMS - Maintenance V6', datetime.date(2019, 12, 3), 'Green', 'Green', datetime.date(2017, 10, 31), datetime.date(2017, 10, 19), datetime.date(2017, 10, 19), '23018', 'Completed', 'Active', 'MY Charlene Selvarathnam', 'Malaysia', 'Malaysia', 'MY / Grocery - Commodities')\n",
      "('SP0155', 'Soon Hup Edible Oils Sdn Bhd', 'ST0193', 'Soon Hup Edible Oils Sdn Bhd', 'Audit: TFMS - Maintenance V6', datetime.date(2019, 12, 3), 'Green', 'Green', datetime.date(2019, 1, 24), datetime.date(2019, 1, 24), datetime.date(2019, 1, 24), '117089', 'Completed', 'Active', 'MY Charlene Selvarathnam', 'Malaysia', 'Malaysia', 'MY / Grocery - Commodities')\n",
      "('SP0155', 'Soon Hup Edible Oils Sdn Bhd', 'ST0193', 'Soon Hup Edible Oils Sdn Bhd', 'Audit: Tesco Food Standard', datetime.date(2019, 12, 3), 'Green', 'Green', datetime.date(2019, 12, 6), datetime.date(2019, 12, 3), datetime.date(2019, 12, 3), '135157', 'Awaiting Corrective Action', 'Active', 'MY Charlene Selvarathnam', 'Malaysia', 'Malaysia', 'MY / Grocery - Commodities')\n"
     ]
    }
   ],
   "source": [
    "\n",
    "#Connect to SQL server\n",
    "\n",
    "import pyodbc \n",
    "conn = pyodbc.connect('Driver={SQL Server Native Client 11.0};'\n",
    "                      'Server=pvghsrepdb001uk.global.tesco.org;'\n",
    "                      'Database=CPRCOE;'\n",
    "                      'Trusted_Connection=yes;')\n",
    "\n",
    "cursor = conn.cursor()\n",
    "cursor.execute('SELECT top 10 * FROM tblAudits')\n",
    "\n",
    "for row in cursor:\n",
    "    print(row)"
   ]
  },
  {
   "cell_type": "code",
   "execution_count": 2,
   "metadata": {},
   "outputs": [],
   "source": [
    "import teradatasql"
   ]
  },
  {
   "cell_type": "code",
   "execution_count": 22,
   "metadata": {},
   "outputs": [
    {
     "ename": "DatabaseError",
     "evalue": "(10065, \"[08001] [WSock32 DLL] 10065 WSA E HostUnreach: The Teradata server can't currently be reached over this network\")",
     "output_type": "error",
     "traceback": [
      "\u001b[1;31m---------------------------------------------------------------------------\u001b[0m",
      "\u001b[1;31mDatabaseError\u001b[0m                             Traceback (most recent call last)",
      "\u001b[1;32m<ipython-input-22-5d559cd0882f>\u001b[0m in \u001b[0;36m<module>\u001b[1;34m\u001b[0m\n\u001b[0;32m      8\u001b[0m \u001b[1;33m\u001b[0m\u001b[0m\n\u001b[0;32m      9\u001b[0m with udaExec.connect(method=\"odbc\",system=host, username=username,\n\u001b[1;32m---> 10\u001b[1;33m                             password=password, driver=\"Teradata Database ODBC Driver 16.00\") as connect:\n\u001b[0m\u001b[0;32m     11\u001b[0m \u001b[1;33m\u001b[0m\u001b[0m\n\u001b[0;32m     12\u001b[0m     \u001b[0mquery\u001b[0m \u001b[1;33m=\u001b[0m \u001b[1;34m\"select * from DXWV_PROD_UK_VIEW_ACCESS.VWV0LWJ_WK_IT_LS_SUPP sample 10;\"\u001b[0m\u001b[1;33m\u001b[0m\u001b[1;33m\u001b[0m\u001b[0m\n",
      "\u001b[1;32mC:\\ProgramData\\Anaconda3\\lib\\site-packages\\teradata\\udaexec.py\u001b[0m in \u001b[0;36mconnect\u001b[1;34m(self, externalDSN, dataTypeConverter, **kwargs)\u001b[0m\n\u001b[0;32m    181\u001b[0m                                          \u001b[0modbcLibPath\u001b[0m\u001b[1;33m=\u001b[0m\u001b[0mself\u001b[0m\u001b[1;33m.\u001b[0m\u001b[0modbcLibPath\u001b[0m\u001b[1;33m,\u001b[0m\u001b[1;33m\u001b[0m\u001b[1;33m\u001b[0m\u001b[0m\n\u001b[0;32m    182\u001b[0m                                          \u001b[0mdataTypeConverter\u001b[0m\u001b[1;33m=\u001b[0m\u001b[0mdataTypeConverter\u001b[0m\u001b[1;33m,\u001b[0m\u001b[1;33m\u001b[0m\u001b[1;33m\u001b[0m\u001b[0m\n\u001b[1;32m--> 183\u001b[1;33m                                          **args))\n\u001b[0m\u001b[0;32m    184\u001b[0m             \u001b[1;32melse\u001b[0m\u001b[1;33m:\u001b[0m\u001b[1;33m\u001b[0m\u001b[1;33m\u001b[0m\u001b[0m\n\u001b[0;32m    185\u001b[0m                 raise api.InterfaceError(\n",
      "\u001b[1;32mC:\\ProgramData\\Anaconda3\\lib\\site-packages\\teradata\\tdodbc.py\u001b[0m in \u001b[0;36m__init__\u001b[1;34m(self, dbType, system, username, password, autoCommit, transactionMode, queryBands, odbcLibPath, dataTypeConverter, driver, **kwargs)\u001b[0m\n\u001b[0;32m    452\u001b[0m             \u001b[0mlock\u001b[0m\u001b[1;33m.\u001b[0m\u001b[0mrelease\u001b[0m\u001b[1;33m(\u001b[0m\u001b[1;33m)\u001b[0m\u001b[1;33m\u001b[0m\u001b[1;33m\u001b[0m\u001b[0m\n\u001b[0;32m    453\u001b[0m         \u001b[1;32mtry\u001b[0m\u001b[1;33m:\u001b[0m\u001b[1;33m\u001b[0m\u001b[1;33m\u001b[0m\u001b[0m\n\u001b[1;32m--> 454\u001b[1;33m             \u001b[0mcheckStatus\u001b[0m\u001b[1;33m(\u001b[0m\u001b[0mrc\u001b[0m\u001b[1;33m,\u001b[0m \u001b[0mhDbc\u001b[0m\u001b[1;33m=\u001b[0m\u001b[0mself\u001b[0m\u001b[1;33m.\u001b[0m\u001b[0mhDbc\u001b[0m\u001b[1;33m,\u001b[0m \u001b[0mmethod\u001b[0m\u001b[1;33m=\u001b[0m\u001b[1;34m\"SQLDriverConnectW\"\u001b[0m\u001b[1;33m)\u001b[0m\u001b[1;33m\u001b[0m\u001b[1;33m\u001b[0m\u001b[0m\n\u001b[0m\u001b[0;32m    455\u001b[0m         \u001b[1;32mexcept\u001b[0m\u001b[1;33m:\u001b[0m\u001b[1;33m\u001b[0m\u001b[1;33m\u001b[0m\u001b[0m\n\u001b[0;32m    456\u001b[0m             \u001b[0mrc\u001b[0m \u001b[1;33m=\u001b[0m \u001b[0modbc\u001b[0m\u001b[1;33m.\u001b[0m\u001b[0mSQLFreeHandle\u001b[0m\u001b[1;33m(\u001b[0m\u001b[0mSQL_HANDLE_DBC\u001b[0m\u001b[1;33m,\u001b[0m \u001b[0mself\u001b[0m\u001b[1;33m.\u001b[0m\u001b[0mhDbc\u001b[0m\u001b[1;33m)\u001b[0m\u001b[1;33m\u001b[0m\u001b[1;33m\u001b[0m\u001b[0m\n",
      "\u001b[1;32mC:\\ProgramData\\Anaconda3\\lib\\site-packages\\teradata\\tdodbc.py\u001b[0m in \u001b[0;36mcheckStatus\u001b[1;34m(rc, hEnv, hDbc, hStmt, method, ignore)\u001b[0m\n\u001b[0;32m    229\u001b[0m                                  \u001b[1;34m\"and the ODBCINI or ODBCINST environment \"\u001b[0m\u001b[1;33m\u001b[0m\u001b[1;33m\u001b[0m\u001b[0m\n\u001b[0;32m    230\u001b[0m                                  \"variables are correctly set.\")\n\u001b[1;32m--> 231\u001b[1;33m                 \u001b[1;32mraise\u001b[0m \u001b[0mDatabaseError\u001b[0m\u001b[1;33m(\u001b[0m\u001b[0mi\u001b[0m\u001b[1;33m[\u001b[0m\u001b[1;36m2\u001b[0m\u001b[1;33m]\u001b[0m\u001b[1;33m,\u001b[0m \u001b[1;34mu\"[{}] {}\"\u001b[0m\u001b[1;33m.\u001b[0m\u001b[0mformat\u001b[0m\u001b[1;33m(\u001b[0m\u001b[0mi\u001b[0m\u001b[1;33m[\u001b[0m\u001b[1;36m0\u001b[0m\u001b[1;33m]\u001b[0m\u001b[1;33m,\u001b[0m \u001b[0mmsg\u001b[0m\u001b[1;33m)\u001b[0m\u001b[1;33m,\u001b[0m \u001b[0mi\u001b[0m\u001b[1;33m[\u001b[0m\u001b[1;36m0\u001b[0m\u001b[1;33m]\u001b[0m\u001b[1;33m)\u001b[0m\u001b[1;33m\u001b[0m\u001b[1;33m\u001b[0m\u001b[0m\n\u001b[0m\u001b[0;32m    232\u001b[0m             \u001b[1;32melse\u001b[0m\u001b[1;33m:\u001b[0m\u001b[1;33m\u001b[0m\u001b[1;33m\u001b[0m\u001b[0m\n\u001b[0;32m    233\u001b[0m                 logger.debug(\n",
      "\u001b[1;31mDatabaseError\u001b[0m: (10065, \"[08001] [WSock32 DLL] 10065 WSA E HostUnreach: The Teradata server can't currently be reached over this network\")"
     ]
    }
   ],
   "source": [
    "import teradata\n",
    "import pandas as pd\n",
    "\n",
    "host,username,password = 'tdpg','IN22912959', 'rakhiruchi_007'\n",
    "#Make a connection\n",
    "udaExec = teradata.UdaExec (appName=\"test\", version=\"1.0\", logConsole=False)\n",
    "\n",
    "\n",
    "with udaExec.connect(method=\"odbc\",system=host, username=username,\n",
    "                            password=password, driver=\"Teradata Database ODBC Driver 16.00\") as connect:\n",
    "\n",
    "    query = \"select * from DXWV_PROD_UK_VIEW_ACCESS.VWV0LWJ_WK_IT_LS_SUPP sample 10;\"\n",
    "\n",
    "    #Reading query to df\n",
    "    df = pd.read_sql(query,connect)\n",
    "    # do something with df,e.g.\n",
    "    print(df.head()) #to see the first 5 rows"
   ]
  },
  {
   "cell_type": "code",
   "execution_count": 28,
   "metadata": {},
   "outputs": [
    {
     "ename": "TypeError",
     "evalue": "read_sql_query() missing 1 required positional argument: 'con'",
     "output_type": "error",
     "traceback": [
      "\u001b[1;31m---------------------------------------------------------------------------\u001b[0m",
      "\u001b[1;31mTypeError\u001b[0m                                 Traceback (most recent call last)",
      "\u001b[1;32m<ipython-input-28-31ab36b95016>\u001b[0m in \u001b[0;36m<module>\u001b[1;34m\u001b[0m\n\u001b[0;32m      1\u001b[0m \u001b[1;32mimport\u001b[0m \u001b[0mteradatasql\u001b[0m\u001b[1;33m\u001b[0m\u001b[1;33m\u001b[0m\u001b[0m\n\u001b[0;32m      2\u001b[0m \u001b[0mquery\u001b[0m \u001b[1;33m=\u001b[0m \u001b[1;34m\"select * from DXWV_PROD_UK_VIEW_ACCESS.VWV0LWJ_WK_IT_LS_SUPP sample 10;\"\u001b[0m\u001b[1;33m\u001b[0m\u001b[1;33m\u001b[0m\u001b[0m\n\u001b[1;32m----> 3\u001b[1;33m \u001b[0mquery\u001b[0m\u001b[1;33m=\u001b[0m\u001b[0mpd\u001b[0m\u001b[1;33m.\u001b[0m\u001b[0mread_sql_query\u001b[0m\u001b[1;33m(\u001b[0m\u001b[1;34m\"Documents\\Check for sales for supplier.sql\"\u001b[0m\u001b[1;33m)\u001b[0m\u001b[1;33m\u001b[0m\u001b[1;33m\u001b[0m\u001b[0m\n\u001b[0m\u001b[0;32m      4\u001b[0m \u001b[1;33m\u001b[0m\u001b[0m\n\u001b[0;32m      5\u001b[0m \u001b[1;32mwith\u001b[0m \u001b[0mteradatasql\u001b[0m\u001b[1;33m.\u001b[0m\u001b[0mconnect\u001b[0m\u001b[1;33m(\u001b[0m\u001b[0mhost\u001b[0m\u001b[1;33m=\u001b[0m\u001b[1;34m'tdpg'\u001b[0m\u001b[1;33m,\u001b[0m \u001b[0muser\u001b[0m\u001b[1;33m=\u001b[0m\u001b[1;34m'rcoe'\u001b[0m\u001b[1;33m,\u001b[0m \u001b[0mpassword\u001b[0m\u001b[1;33m=\u001b[0m\u001b[1;34m'rcoe'\u001b[0m\u001b[1;33m)\u001b[0m \u001b[1;32mas\u001b[0m \u001b[0mconnect\u001b[0m\u001b[1;33m:\u001b[0m\u001b[1;33m\u001b[0m\u001b[1;33m\u001b[0m\u001b[0m\n",
      "\u001b[1;31mTypeError\u001b[0m: read_sql_query() missing 1 required positional argument: 'con'"
     ]
    }
   ],
   "source": [
    "import teradatasql\n",
    "query = \"select * from DXWV_PROD_UK_VIEW_ACCESS.VWV0LWJ_WK_IT_LS_SUPP sample 10;\"\n",
    "query=pd.read_sql_query(\"Documents\\Check for sales for supplier.sql\")\n",
    "\n",
    "with teradatasql.connect(host='tdpg', user='rcoe', password='rcoe') as connect:\n",
    "    df = pd.read_sql(sqlCommands, connect)\n",
    "df.head(2)"
   ]
  },
  {
   "cell_type": "code",
   "execution_count": 18,
   "metadata": {},
   "outputs": [
    {
     "ename": "KeyError",
     "evalue": "'Teradata'",
     "output_type": "error",
     "traceback": [
      "\u001b[1;31m---------------------------------------------------------------------------\u001b[0m",
      "\u001b[1;31mKeyError\u001b[0m                                  Traceback (most recent call last)",
      "\u001b[1;32m<ipython-input-18-1bc14aeefc6b>\u001b[0m in \u001b[0;36m<module>\u001b[1;34m\u001b[0m\n\u001b[0;32m      7\u001b[0m link = 'DRIVER={Teradata};DBCNAME={tdpg};UID={IN22912959};PWD={rakhiruchi_007}'.format(\n\u001b[0;32m      8\u001b[0m                       \u001b[0mDRIVERNAME\u001b[0m\u001b[1;33m=\u001b[0m\u001b[1;34m'tdpg'\u001b[0m\u001b[1;33m,\u001b[0m\u001b[0mhostname\u001b[0m\u001b[1;33m=\u001b[0m\u001b[1;34m'tdpg'\u001b[0m\u001b[1;33m,\u001b[0m\u001b[1;33m\u001b[0m\u001b[1;33m\u001b[0m\u001b[0m\n\u001b[1;32m----> 9\u001b[1;33m                       uid=username, pwd=password)\n\u001b[0m\u001b[0;32m     10\u001b[0m \u001b[1;32mwith\u001b[0m \u001b[0mpyodbc\u001b[0m\u001b[1;33m.\u001b[0m\u001b[0mconnect\u001b[0m\u001b[1;33m(\u001b[0m\u001b[0mlink\u001b[0m\u001b[1;33m,\u001b[0m\u001b[0mautocommit\u001b[0m\u001b[1;33m=\u001b[0m\u001b[1;32mTrue\u001b[0m\u001b[1;33m)\u001b[0m \u001b[1;32mas\u001b[0m \u001b[0mconnect\u001b[0m\u001b[1;33m:\u001b[0m\u001b[1;33m\u001b[0m\u001b[1;33m\u001b[0m\u001b[0m\n\u001b[0;32m     11\u001b[0m \u001b[1;33m\u001b[0m\u001b[0m\n",
      "\u001b[1;31mKeyError\u001b[0m: 'Teradata'"
     ]
    }
   ],
   "source": [
    "import pyodbc\n",
    "\n",
    " #You can install teradata via PIP: pip install pyodbc\n",
    " #to get a list of your odbc drivers names, you could do: pyodbc.drivers()\n",
    "\n",
    "#Make a connection\n",
    "link = 'DRIVER={Teradata};DBCNAME={tdpg};UID={IN22912959};PWD={rakhiruchi_007}'.format(\n",
    "                      DRIVERNAME='tdpg',hostname='tdpg',  \n",
    "                      uid=username, pwd=password)\n",
    "with pyodbc.connect(link,autocommit=True) as connect:\n",
    "\n",
    "    #Reading query to df\n",
    "    df = pd.read_sql(query,connect)"
   ]
  },
  {
   "cell_type": "code",
   "execution_count": 29,
   "metadata": {},
   "outputs": [],
   "source": []
  },
  {
   "cell_type": "code",
   "execution_count": 30,
   "metadata": {},
   "outputs": [
    {
     "data": {
      "text/html": [
       "<div>\n",
       "<style scoped>\n",
       "    .dataframe tbody tr th:only-of-type {\n",
       "        vertical-align: middle;\n",
       "    }\n",
       "\n",
       "    .dataframe tbody tr th {\n",
       "        vertical-align: top;\n",
       "    }\n",
       "\n",
       "    .dataframe thead th {\n",
       "        text-align: right;\n",
       "    }\n",
       "</style>\n",
       "<table border=\"1\" class=\"dataframe\">\n",
       "  <thead>\n",
       "    <tr style=\"text-align: right;\">\n",
       "      <th></th>\n",
       "      <th>Supplier</th>\n",
       "      <th>Junior_Buyer</th>\n",
       "      <th>Sales</th>\n",
       "    </tr>\n",
       "  </thead>\n",
       "  <tbody>\n",
       "    <tr>\n",
       "      <th>0</th>\n",
       "      <td>26883.0</td>\n",
       "      <td>ALES&amp;STOU     T.</td>\n",
       "      <td>0.00</td>\n",
       "    </tr>\n",
       "    <tr>\n",
       "      <th>1</th>\n",
       "      <td>65264.0</td>\n",
       "      <td>LIQUEUR&amp;SPECIAL.</td>\n",
       "      <td>32338.82</td>\n",
       "    </tr>\n",
       "  </tbody>\n",
       "</table>\n",
       "</div>"
      ],
      "text/plain": [
       "   Supplier                      Junior_Buyer     Sales\n",
       "0   26883.0  ALES&STOU     T.                      0.00\n",
       "1   65264.0  LIQUEUR&SPECIAL.                  32338.82"
      ]
     },
     "execution_count": 30,
     "metadata": {},
     "output_type": "execute_result"
    }
   ],
   "source": [
    "import dash\n",
    "import dash_core_components as dcc\n",
    "import dash_html_components as html\n",
    "import pandas as pd\n",
    "import dash_table\n",
    "import teradatasql\n",
    "import plotly.express as px\n",
    "\n",
    "query = \"\"\"select \n",
    "distinct\n",
    "a.Supplier,\n",
    "bpr.Junior_Buyer,\n",
    "SUm(Sales_Value) as Sales\n",
    "from DXWV_PROD_UK_VIEW_ACCESS.VWV0LWJ_WK_IT_LS_SUPP as a \n",
    "inner join dxwi_prod_generic_play_pen.a1_hierarchy_tpnb bpr\n",
    "on a.Item_L2_SKU = bpr.base_product_number\n",
    "where Year_week_Number >=201924 and bpr.Commercial_Director in ('FRES          H.', 'PACKAGE       D.')\n",
    "group by 1,2\n",
    ";\"\"\"\n",
    "with teradatasql.connect(host='tdpg', user='rcoe', password='rcoe') as connect:\n",
    "    df = pd.read_sql(query, connect)\n",
    "df.head(2)\n",
    "\n",
    "# app=dash.Dash()\n",
    "# colors={'background':'#ccc','text':'#00539f'}\n",
    "\n",
    "# fig = px.bar(df, x=\"Junior_Buyer\", y=\"Sales\", color=\"Supplier\", barmode=\"group\")\n",
    "\n",
    "# app.layout=html.Div(style={'backgroundColor':colors['background']},children=[\n",
    "#     html.H1(\n",
    "#     children='QVIS',\n",
    "#     style={\n",
    "#         'textAlign':'center',\n",
    "#         'color':colors['text']\n",
    "#     }),\n",
    "#     html.Div(\n",
    "#     children='Supplier Sales >0',\n",
    "#     style={\n",
    "#         'textAlign': 'center',\n",
    "#         'color': colors['text']\n",
    "#     }),\n",
    "#     dash_table.DataTable(\n",
    "# \tid='table1',\n",
    "# \tcolumns=[{\"name\":i,\"id\":i} for i in df.columns],\n",
    "# \tdata=df.to_dict('records'),\n",
    "# \tfixed_rows={'headers': True},\n",
    "# \tstyle_table={'height': '300px', 'overflowY': 'auto'}\n",
    "# \t),\n",
    "# \thtml.H1(\n",
    "#     children='Junior Buyer Sales',\n",
    "#     style={\n",
    "#         'textAlign':'center',\n",
    "#         'font-size':'20px',\n",
    "#         'color':colors['text']\n",
    "#     }),\n",
    "# \tdcc.Graph(\n",
    "#         id='example-graph',\n",
    "#         figure=fig\n",
    "#     )\n",
    "# ])\n",
    "\n",
    "\n",
    "# if __name__ == '__main__':\n",
    "# \tapp.run_server()"
   ]
  },
  {
   "cell_type": "code",
   "execution_count": 3,
   "metadata": {},
   "outputs": [
    {
     "ename": "OperationalError",
     "evalue": "[Version 17.0.0.3] [Session 91046860] [Teradata Database] [Error 8017] The UserId, Password or Account is invalid.\n at gosqldriver/teradatasql.(*teradataConnection).formatDatabaseError TeradataConnection.go:1138\n at gosqldriver/teradatasql.(*teradataConnection).makeChainedDatabaseError TeradataConnection.go:1154\n at gosqldriver/teradatasql.(*teradataConnection).makeDatabaseError TeradataConnection.go:1166\n at gosqldriver/teradatasql.(*teradataConnection).processMessageSuccessOrError TeradataConnection.go:1269\n at gosqldriver/teradatasql.newTeradataConnection TeradataConnection.go:571\n at gosqldriver/teradatasql.(*teradataDriver).Open TeradataDriver.go:32\n at database/sql.dsnConnector.Connect sql.go:709\n at database/sql.(*DB).conn sql.go:1233\n at database/sql.(*DB).Conn sql.go:1739\n at main.goCreateConnection goside.go:275\n at main._cgoexpwrap_117d196a982e_goCreateConnection _cgo_gotypes.go:246\n at runtime.cgocallbackg1 cgocall.go:332\n at runtime.cgocallbackg cgocall.go:207\n at runtime.cgocallback_gofunc asm_amd64.s:793\n at runtime.goexit asm_amd64.s:1373",
     "output_type": "error",
     "traceback": [
      "\u001b[1;31m---------------------------------------------------------------------------\u001b[0m",
      "\u001b[1;31mOperationalError\u001b[0m                          Traceback (most recent call last)",
      "\u001b[1;32m<ipython-input-3-48a8815d5b9d>\u001b[0m in \u001b[0;36m<module>\u001b[1;34m\u001b[0m\n\u001b[0;32m      8\u001b[0m \u001b[1;33m\u001b[0m\u001b[0m\n\u001b[0;32m      9\u001b[0m \u001b[0mquery\u001b[0m \u001b[1;33m=\u001b[0m \u001b[1;34m\"\"\"select * from DXWI_PROD_RPT_PLAY_PEN.DB_dealz_Web_Scrape sample 10 ;\"\"\"\u001b[0m\u001b[1;33m\u001b[0m\u001b[1;33m\u001b[0m\u001b[0m\n\u001b[1;32m---> 10\u001b[1;33m \u001b[1;32mwith\u001b[0m \u001b[0mteradatasql\u001b[0m\u001b[1;33m.\u001b[0m\u001b[0mconnect\u001b[0m\u001b[1;33m(\u001b[0m\u001b[0mhost\u001b[0m\u001b[1;33m=\u001b[0m\u001b[1;34m'tdpg'\u001b[0m\u001b[1;33m,\u001b[0m \u001b[0muser\u001b[0m\u001b[1;33m=\u001b[0m\u001b[1;34m'SVC-Price-TeamROI'\u001b[0m\u001b[1;33m,\u001b[0m \u001b[0mpassword\u001b[0m\u001b[1;33m=\u001b[0m\u001b[1;34m'Adask*sask*Dnsd'\u001b[0m\u001b[1;33m)\u001b[0m \u001b[1;32mas\u001b[0m \u001b[0mconnect\u001b[0m\u001b[1;33m:\u001b[0m\u001b[1;33m\u001b[0m\u001b[1;33m\u001b[0m\u001b[0m\n\u001b[0m\u001b[0;32m     11\u001b[0m     \u001b[0mdf\u001b[0m \u001b[1;33m=\u001b[0m \u001b[0mpd\u001b[0m\u001b[1;33m.\u001b[0m\u001b[0mread_sql\u001b[0m\u001b[1;33m(\u001b[0m\u001b[0mquery\u001b[0m\u001b[1;33m,\u001b[0m \u001b[0mconnect\u001b[0m\u001b[1;33m)\u001b[0m\u001b[1;33m\u001b[0m\u001b[1;33m\u001b[0m\u001b[0m\n\u001b[0;32m     12\u001b[0m \u001b[0mdf\u001b[0m\u001b[1;33m.\u001b[0m\u001b[0mhead\u001b[0m\u001b[1;33m(\u001b[0m\u001b[1;36m2\u001b[0m\u001b[1;33m)\u001b[0m\u001b[1;33m\u001b[0m\u001b[1;33m\u001b[0m\u001b[0m\n",
      "\u001b[1;32m~\\AppData\\Roaming\\Python\\Python37\\site-packages\\teradatasql\\__init__.py\u001b[0m in \u001b[0;36m__init__\u001b[1;34m(self, sConnectParams, **kwargs)\u001b[0m\n\u001b[0;32m    148\u001b[0m                 \u001b[0msErr\u001b[0m \u001b[1;33m=\u001b[0m \u001b[0mctypes\u001b[0m\u001b[1;33m.\u001b[0m\u001b[0mstring_at\u001b[0m\u001b[1;33m(\u001b[0m\u001b[0mpcError\u001b[0m\u001b[1;33m)\u001b[0m\u001b[1;33m.\u001b[0m\u001b[0mdecode\u001b[0m\u001b[1;33m(\u001b[0m\u001b[1;34m'utf-8'\u001b[0m\u001b[1;33m)\u001b[0m\u001b[1;33m\u001b[0m\u001b[1;33m\u001b[0m\u001b[0m\n\u001b[0;32m    149\u001b[0m                 \u001b[0mgoside\u001b[0m\u001b[1;33m.\u001b[0m\u001b[0mgoFreePointer\u001b[0m \u001b[1;33m(\u001b[0m\u001b[0mself\u001b[0m\u001b[1;33m.\u001b[0m\u001b[0muLog\u001b[0m\u001b[1;33m,\u001b[0m \u001b[0mpcError\u001b[0m\u001b[1;33m)\u001b[0m\u001b[1;33m\u001b[0m\u001b[1;33m\u001b[0m\u001b[0m\n\u001b[1;32m--> 150\u001b[1;33m                 \u001b[1;32mraise\u001b[0m \u001b[0mOperationalError\u001b[0m\u001b[1;33m(\u001b[0m\u001b[0msErr\u001b[0m\u001b[1;33m)\u001b[0m\u001b[1;33m\u001b[0m\u001b[1;33m\u001b[0m\u001b[0m\n\u001b[0m\u001b[0;32m    151\u001b[0m \u001b[1;33m\u001b[0m\u001b[0m\n\u001b[0;32m    152\u001b[0m             \u001b[0mself\u001b[0m\u001b[1;33m.\u001b[0m\u001b[0muConnHandle\u001b[0m \u001b[1;33m=\u001b[0m \u001b[0muConnHandle\u001b[0m\u001b[1;33m.\u001b[0m\u001b[0mvalue\u001b[0m\u001b[1;33m\u001b[0m\u001b[1;33m\u001b[0m\u001b[0m\n",
      "\u001b[1;31mOperationalError\u001b[0m: [Version 17.0.0.3] [Session 91046860] [Teradata Database] [Error 8017] The UserId, Password or Account is invalid.\n at gosqldriver/teradatasql.(*teradataConnection).formatDatabaseError TeradataConnection.go:1138\n at gosqldriver/teradatasql.(*teradataConnection).makeChainedDatabaseError TeradataConnection.go:1154\n at gosqldriver/teradatasql.(*teradataConnection).makeDatabaseError TeradataConnection.go:1166\n at gosqldriver/teradatasql.(*teradataConnection).processMessageSuccessOrError TeradataConnection.go:1269\n at gosqldriver/teradatasql.newTeradataConnection TeradataConnection.go:571\n at gosqldriver/teradatasql.(*teradataDriver).Open TeradataDriver.go:32\n at database/sql.dsnConnector.Connect sql.go:709\n at database/sql.(*DB).conn sql.go:1233\n at database/sql.(*DB).Conn sql.go:1739\n at main.goCreateConnection goside.go:275\n at main._cgoexpwrap_117d196a982e_goCreateConnection _cgo_gotypes.go:246\n at runtime.cgocallbackg1 cgocall.go:332\n at runtime.cgocallbackg cgocall.go:207\n at runtime.cgocallback_gofunc asm_amd64.s:793\n at runtime.goexit asm_amd64.s:1373"
     ]
    }
   ],
   "source": [
    "import dash\n",
    "import dash_core_components as dcc\n",
    "import dash_html_components as html\n",
    "import pandas as pd\n",
    "import dash_table\n",
    "import teradatasql\n",
    "import plotly.express as px\n",
    "\n",
    "query = \"\"\"select * from DXWI_PROD_RPT_PLAY_PEN.DB_dealz_Web_Scrape sample 10 ;\"\"\"\n",
    "with teradatasql.connect(host='tdpg', user='SVC-Price-TeamROI', password='Adask*sask*Dnsd') as connect:\n",
    "    df = pd.read_sql(query, connect)\n",
    "df.head(2)\n",
    "\n"
   ]
  },
  {
   "cell_type": "code",
   "execution_count": null,
   "metadata": {},
   "outputs": [],
   "source": []
  }
 ],
 "metadata": {
  "kernelspec": {
   "display_name": "Python 3",
   "language": "python",
   "name": "python3"
  },
  "language_info": {
   "codemirror_mode": {
    "name": "ipython",
    "version": 3
   },
   "file_extension": ".py",
   "mimetype": "text/x-python",
   "name": "python",
   "nbconvert_exporter": "python",
   "pygments_lexer": "ipython3",
   "version": "3.7.6"
  }
 },
 "nbformat": 4,
 "nbformat_minor": 4
}
