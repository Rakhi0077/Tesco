{
 "cells": [
  {
   "cell_type": "code",
   "execution_count": 40,
   "metadata": {},
   "outputs": [],
   "source": [
    "from fuzzywuzzy import fuzz \n",
    "from fuzzywuzzy import process \n",
    "import pandas as pd\n",
    "import numpy as np\n",
    "\n",
    "def checker(wrong_options,correct_options):\n",
    "\n",
    "    names_array=[]\n",
    "    ratio_array=[]    \n",
    "    for wrong_option in wrong_options:\n",
    "        if wrong_option in correct_options:\n",
    "           names_array.append(wrong_option)\n",
    "           ratio_array.append('100')\n",
    "        else:   \n",
    "            x=process.extractOne(wrong_option,correct_options,scorer=fuzz.token_set_ratio)\n",
    "            names_array.append(x[0])\n",
    "            ratio_array.append(x[1])\n",
    "    return names_array,ratio_array\n",
    "\n",
    "df_Original_List=pd.read_excel(r'C:\\Users\\IN22912959\\OneDrive - Tesco\\Documents\\Supplier Score Card\\Analysis\\TFMS analysis Template 12 08 2020.xlsx',sheet_name='Commercial Data')\n",
    "tqc=pd.read_excel(r'C:\\Users\\IN22912959\\OneDrive - Tesco\\Documents\\Supplier Score Card\\Analysis\\TFMS analysis Template 12 08 2020.xlsx',sheet_name='TQC Data')"
   ]
  },
  {
   "cell_type": "code",
   "execution_count": 41,
   "metadata": {},
   "outputs": [
    {
     "data": {
      "text/plain": [
       "Index(['lookup', 'Origin', 'Supplier_Number', 'Supplier_Name',\n",
       "       'Commercial_Director', 'Commercial_Area', 'Category_Director',\n",
       "       'Category_Area', 'Buying_Controller', 'Product_Area', 'Buyer',\n",
       "       'Buyer_Area', 'Junior_Buyer', 'Junior_Area', 'Active_Yes_No',\n",
       "       'Geography', 'Parent_Supplier_Number_TFMS', 'Parent_Supplier_Name',\n",
       "       'OBL Count', 'Count', 'Supplier Name from TQC',\n",
       "       'Supplier Code from TQC', 'Supplier Number from TQC', 'Match?', 'COGS'],\n",
       "      dtype='object')"
      ]
     },
     "execution_count": 41,
     "metadata": {},
     "output_type": "execute_result"
    }
   ],
   "source": [
    "df_Original_List.columns"
   ]
  },
  {
   "cell_type": "code",
   "execution_count": 42,
   "metadata": {},
   "outputs": [
    {
     "data": {
      "text/plain": [
       "1953"
      ]
     },
     "execution_count": 42,
     "metadata": {},
     "output_type": "execute_result"
    }
   ],
   "source": [
    "df_Original_List=df_Original_List[df_Original_List['OBL Count']>0]\n",
    "df_Original_List=df_Original_List[df_Original_List['Supplier_Number']!=99999]\n",
    "# df_Original_List=df_Original_List[df_Original_List['Active_Yes_No']!='No']\n",
    "len(df_Original_List)"
   ]
  },
  {
   "cell_type": "code",
   "execution_count": 43,
   "metadata": {},
   "outputs": [
    {
     "data": {
      "text/plain": [
       "1953"
      ]
     },
     "execution_count": 43,
     "metadata": {},
     "output_type": "execute_result"
    }
   ],
   "source": [
    "total_combo=df_Original_List[['Junior_Buyer','Supplier_Number']].drop_duplicates()\n",
    "len(total_combo)"
   ]
  },
  {
   "cell_type": "code",
   "execution_count": 44,
   "metadata": {},
   "outputs": [
    {
     "data": {
      "text/plain": [
       "1424"
      ]
     },
     "execution_count": 44,
     "metadata": {},
     "output_type": "execute_result"
    }
   ],
   "source": [
    "total_matched_combo=df_Original_List[['Supplier_Name','Junior_Buyer']][(df_Original_List['OBL Count']>0) & (df_Original_List['Supplier Name from TQC'].notnull())].drop_duplicates()\n",
    "len(total_matched_combo)"
   ]
  },
  {
   "cell_type": "code",
   "execution_count": 45,
   "metadata": {},
   "outputs": [
    {
     "data": {
      "text/plain": [
       "72.91346646185356"
      ]
     },
     "execution_count": 45,
     "metadata": {},
     "output_type": "execute_result"
    }
   ],
   "source": [
    "(len(total_matched_combo)/len(total_combo))*100"
   ]
  },
  {
   "cell_type": "code",
   "execution_count": 46,
   "metadata": {
    "scrolled": true
   },
   "outputs": [
    {
     "data": {
      "text/html": [
       "<div>\n",
       "<style scoped>\n",
       "    .dataframe tbody tr th:only-of-type {\n",
       "        vertical-align: middle;\n",
       "    }\n",
       "\n",
       "    .dataframe tbody tr th {\n",
       "        vertical-align: top;\n",
       "    }\n",
       "\n",
       "    .dataframe thead th {\n",
       "        text-align: right;\n",
       "    }\n",
       "</style>\n",
       "<table border=\"1\" class=\"dataframe\">\n",
       "  <thead>\n",
       "    <tr style=\"text-align: right;\">\n",
       "      <th></th>\n",
       "      <th>Parent_Junior_Combo</th>\n",
       "      <th>Supplier Name from TQC</th>\n",
       "    </tr>\n",
       "  </thead>\n",
       "  <tbody>\n",
       "    <tr>\n",
       "      <th>16</th>\n",
       "      <td>FRIESLAND FOODSSPECIALCHEES  E.</td>\n",
       "      <td>FrieslandCampina</td>\n",
       "    </tr>\n",
       "    <tr>\n",
       "      <th>17</th>\n",
       "      <td>BAKKAVORCHILLED PIZZ  A.</td>\n",
       "      <td>Bakkavor</td>\n",
       "    </tr>\n",
       "  </tbody>\n",
       "</table>\n",
       "</div>"
      ],
      "text/plain": [
       "                Parent_Junior_Combo Supplier Name from TQC\n",
       "16  FRIESLAND FOODSSPECIALCHEES  E.       FrieslandCampina\n",
       "17         BAKKAVORCHILLED PIZZ  A.               Bakkavor"
      ]
     },
     "execution_count": 46,
     "metadata": {},
     "output_type": "execute_result"
    }
   ],
   "source": [
    "matched=df_Original_List[(df_Original_List['OBL Count']>0) & (df_Original_List['Supplier Name from TQC'].notnull())].drop_duplicates()\n",
    "matched['Parent_Junior_Combo']=matched['Parent_Supplier_Name']+matched['Junior_Buyer']\n",
    "matched_combo_with_TQC_Supplier_Name=matched[['Parent_Junior_Combo','Supplier Name from TQC']].drop_duplicates()\n",
    "matched_combo_with_TQC_Supplier_Name.head(2)"
   ]
  },
  {
   "cell_type": "code",
   "execution_count": 47,
   "metadata": {},
   "outputs": [
    {
     "data": {
      "text/plain": [
       "'BAKKAVOR'"
      ]
     },
     "execution_count": 47,
     "metadata": {},
     "output_type": "execute_result"
    }
   ],
   "source": [
    "matching_dict=pd.Series(matched_combo_with_TQC_Supplier_Name['Supplier Name from TQC'].values,index=matched_combo_with_TQC_Supplier_Name['Parent_Junior_Combo']).to_dict()\n",
    "matching_dict.get('LAURENS HOLDINGSPOTTEDDESSERT S.')"
   ]
  },
  {
   "cell_type": "code",
   "execution_count": 48,
   "metadata": {},
   "outputs": [
    {
     "data": {
      "text/plain": [
       "515"
      ]
     },
     "execution_count": 48,
     "metadata": {},
     "output_type": "execute_result"
    }
   ],
   "source": [
    "df_Original_List['Parent_Junior_Combo']=df_Original_List['Parent_Supplier_Name']+df_Original_List['Junior_Buyer']\n",
    "non_matched=df_Original_List[(df_Original_List['OBL Count']>0) & (df_Original_List['Supplier Name from TQC'].isnull())].drop_duplicates()\n",
    "non_matched['TQC_Supplier_Name_2']=non_matched['Parent_Junior_Combo']\n",
    "len(non_matched)\n",
    "# non_matched[non_matched['Parent_Supplier_Name']=='LAURENS HOLDINGS']"
   ]
  },
  {
   "cell_type": "code",
   "execution_count": 49,
   "metadata": {},
   "outputs": [
    {
     "data": {
      "text/html": [
       "<div>\n",
       "<style scoped>\n",
       "    .dataframe tbody tr th:only-of-type {\n",
       "        vertical-align: middle;\n",
       "    }\n",
       "\n",
       "    .dataframe tbody tr th {\n",
       "        vertical-align: top;\n",
       "    }\n",
       "\n",
       "    .dataframe thead th {\n",
       "        text-align: right;\n",
       "    }\n",
       "</style>\n",
       "<table border=\"1\" class=\"dataframe\">\n",
       "  <thead>\n",
       "    <tr style=\"text-align: right;\">\n",
       "      <th></th>\n",
       "      <th>lookup</th>\n",
       "      <th>Origin</th>\n",
       "      <th>Supplier_Number</th>\n",
       "      <th>Supplier_Name</th>\n",
       "      <th>Commercial_Director</th>\n",
       "      <th>Commercial_Area</th>\n",
       "      <th>Category_Director</th>\n",
       "      <th>Category_Area</th>\n",
       "      <th>Buying_Controller</th>\n",
       "      <th>Product_Area</th>\n",
       "      <th>...</th>\n",
       "      <th>Parent_Supplier_Name</th>\n",
       "      <th>OBL Count</th>\n",
       "      <th>Count</th>\n",
       "      <th>Supplier Name from TQC</th>\n",
       "      <th>Supplier Code from TQC</th>\n",
       "      <th>Supplier Number from TQC</th>\n",
       "      <th>Match?</th>\n",
       "      <th>COGS</th>\n",
       "      <th>Parent_Junior_Combo</th>\n",
       "      <th>TQC_Supplier_Name_2</th>\n",
       "    </tr>\n",
       "  </thead>\n",
       "  <tbody>\n",
       "    <tr>\n",
       "      <th>2662</th>\n",
       "      <td>34773VEG MEALS &amp; ING.</td>\n",
       "      <td>Commercial</td>\n",
       "      <td>34773</td>\n",
       "      <td>BAKKAVOR SPALDING(VF</td>\n",
       "      <td>FRES          H.</td>\n",
       "      <td>Fresh</td>\n",
       "      <td>PREPARED FOOD S.</td>\n",
       "      <td>Prepared Foods</td>\n",
       "      <td>CHILLE        D.</td>\n",
       "      <td>Chilled</td>\n",
       "      <td>...</td>\n",
       "      <td>BAKKAVOR</td>\n",
       "      <td>1</td>\n",
       "      <td>0</td>\n",
       "      <td>NaN</td>\n",
       "      <td>NaN</td>\n",
       "      <td>NaN</td>\n",
       "      <td>no match</td>\n",
       "      <td>1.0</td>\n",
       "      <td>BAKKAVORVEG MEALS &amp; ING.</td>\n",
       "      <td>Bakkavor</td>\n",
       "    </tr>\n",
       "  </tbody>\n",
       "</table>\n",
       "<p>1 rows × 27 columns</p>\n",
       "</div>"
      ],
      "text/plain": [
       "                     lookup      Origin  Supplier_Number  \\\n",
       "2662  34773VEG MEALS & ING.  Commercial            34773   \n",
       "\n",
       "             Supplier_Name Commercial_Director Commercial_Area  \\\n",
       "2662  BAKKAVOR SPALDING(VF    FRES          H.           Fresh   \n",
       "\n",
       "     Category_Director   Category_Area Buying_Controller Product_Area  ...  \\\n",
       "2662  PREPARED FOOD S.  Prepared Foods  CHILLE        D.      Chilled  ...   \n",
       "\n",
       "     Parent_Supplier_Name OBL Count Count Supplier Name from TQC  \\\n",
       "2662             BAKKAVOR         1     0                    NaN   \n",
       "\n",
       "     Supplier Code from TQC Supplier Number from TQC    Match? COGS  \\\n",
       "2662                    NaN                      NaN  no match  1.0   \n",
       "\n",
       "           Parent_Junior_Combo  TQC_Supplier_Name_2  \n",
       "2662  BAKKAVORVEG MEALS & ING.             Bakkavor  \n",
       "\n",
       "[1 rows x 27 columns]"
      ]
     },
     "execution_count": 49,
     "metadata": {},
     "output_type": "execute_result"
    }
   ],
   "source": [
    "non_matched=non_matched.replace({\"TQC_Supplier_Name_2\": matching_dict})\n",
    "non_matched[non_matched['TQC_Supplier_Name_2']=='Bakkavor']\n",
    "# non_matched.to_excel('df6.xlsx')"
   ]
  },
  {
   "cell_type": "code",
   "execution_count": 50,
   "metadata": {},
   "outputs": [
    {
     "data": {
      "text/html": [
       "<div>\n",
       "<style scoped>\n",
       "    .dataframe tbody tr th:only-of-type {\n",
       "        vertical-align: middle;\n",
       "    }\n",
       "\n",
       "    .dataframe tbody tr th {\n",
       "        vertical-align: top;\n",
       "    }\n",
       "\n",
       "    .dataframe thead th {\n",
       "        text-align: right;\n",
       "    }\n",
       "</style>\n",
       "<table border=\"1\" class=\"dataframe\">\n",
       "  <thead>\n",
       "    <tr style=\"text-align: right;\">\n",
       "      <th></th>\n",
       "      <th>lookup</th>\n",
       "      <th>Origin</th>\n",
       "      <th>Supplier_Number</th>\n",
       "      <th>Supplier_Name</th>\n",
       "      <th>Commercial_Director</th>\n",
       "      <th>Commercial_Area</th>\n",
       "      <th>Category_Director</th>\n",
       "      <th>Category_Area</th>\n",
       "      <th>Buying_Controller</th>\n",
       "      <th>Product_Area</th>\n",
       "      <th>...</th>\n",
       "      <th>OBL Count</th>\n",
       "      <th>Count</th>\n",
       "      <th>Supplier Name from TQC</th>\n",
       "      <th>Supplier Code from TQC</th>\n",
       "      <th>Supplier Number from TQC</th>\n",
       "      <th>Match?</th>\n",
       "      <th>COGS</th>\n",
       "      <th>Parent_Junior_Combo</th>\n",
       "      <th>TQC_Supplier_Name_2</th>\n",
       "      <th>flag</th>\n",
       "    </tr>\n",
       "  </thead>\n",
       "  <tbody>\n",
       "    <tr>\n",
       "      <th>8</th>\n",
       "      <td>54364HOMEBAK       E.</td>\n",
       "      <td>Commercial</td>\n",
       "      <td>54364</td>\n",
       "      <td>SWAN MILL PAPER CO.LTD.</td>\n",
       "      <td>PACKAGE       D.</td>\n",
       "      <td>Packaged</td>\n",
       "      <td>GROCER        Y.</td>\n",
       "      <td>Grocery</td>\n",
       "      <td>CLASSIC GROCERY.</td>\n",
       "      <td>Classic Grocery</td>\n",
       "      <td>...</td>\n",
       "      <td>4</td>\n",
       "      <td>0</td>\n",
       "      <td>NaN</td>\n",
       "      <td>NaN</td>\n",
       "      <td>NaN</td>\n",
       "      <td>no match</td>\n",
       "      <td>7.0</td>\n",
       "      <td>SWAN MILL PAPER AND CO LTDHOMEBAK       E.</td>\n",
       "      <td>SWAN MILL PAPER AND CO LTDHOMEBAK       E.</td>\n",
       "      <td>True</td>\n",
       "    </tr>\n",
       "    <tr>\n",
       "      <th>15</th>\n",
       "      <td>64784FBAKERYORDERABL.</td>\n",
       "      <td>Commercial</td>\n",
       "      <td>64784</td>\n",
       "      <td>PANELTO FOODS LTD</td>\n",
       "      <td>FRES          H.</td>\n",
       "      <td>Fresh</td>\n",
       "      <td>BAKERY&amp;DAIR   Y.</td>\n",
       "      <td>Bakery &amp; Dairy</td>\n",
       "      <td>IN STORE BA   K.</td>\n",
       "      <td>Instore Bakery</td>\n",
       "      <td>...</td>\n",
       "      <td>16</td>\n",
       "      <td>0</td>\n",
       "      <td>NaN</td>\n",
       "      <td>NaN</td>\n",
       "      <td>NaN</td>\n",
       "      <td>no match</td>\n",
       "      <td>12575979.0</td>\n",
       "      <td>PANELTO FOODS LTDFBAKERYORDERABL.</td>\n",
       "      <td>PANELTO FOODS LTDFBAKERYORDERABL.</td>\n",
       "      <td>True</td>\n",
       "    </tr>\n",
       "    <tr>\n",
       "      <th>19</th>\n",
       "      <td>11575CHILLED SNACK S.</td>\n",
       "      <td>Commercial</td>\n",
       "      <td>11575</td>\n",
       "      <td>PORK FARMS LIMITED(VF</td>\n",
       "      <td>FRES          H.</td>\n",
       "      <td>Fresh</td>\n",
       "      <td>PREPARED FOOD S.</td>\n",
       "      <td>Prepared Foods</td>\n",
       "      <td>CHILLE        D.</td>\n",
       "      <td>Chilled</td>\n",
       "      <td>...</td>\n",
       "      <td>3</td>\n",
       "      <td>0</td>\n",
       "      <td>NaN</td>\n",
       "      <td>NaN</td>\n",
       "      <td>NaN</td>\n",
       "      <td>no match</td>\n",
       "      <td>18022.0</td>\n",
       "      <td>ADDO FOOD GROUPCHILLED SNACK S.</td>\n",
       "      <td>Kerry Foods Ltd</td>\n",
       "      <td>False</td>\n",
       "    </tr>\n",
       "    <tr>\n",
       "      <th>35</th>\n",
       "      <td>61961PREPVE        G.</td>\n",
       "      <td>Commercial</td>\n",
       "      <td>61961</td>\n",
       "      <td>KANES FOODS LTD (FF</td>\n",
       "      <td>FRES          H.</td>\n",
       "      <td>Fresh</td>\n",
       "      <td>PRODUC        E.</td>\n",
       "      <td>Produce</td>\n",
       "      <td>PREPARE       D.</td>\n",
       "      <td>Prepared Salad, Fruit &amp; Veg</td>\n",
       "      <td>...</td>\n",
       "      <td>3</td>\n",
       "      <td>0</td>\n",
       "      <td>NaN</td>\n",
       "      <td>NaN</td>\n",
       "      <td>NaN</td>\n",
       "      <td>no match</td>\n",
       "      <td>19.0</td>\n",
       "      <td>KANES FOODS LTDPREPVE        G.</td>\n",
       "      <td>KANES FOODS LTDPREPVE        G.</td>\n",
       "      <td>True</td>\n",
       "    </tr>\n",
       "    <tr>\n",
       "      <th>77</th>\n",
       "      <td>67723DRIEDFRUITNUT S.</td>\n",
       "      <td>Commercial</td>\n",
       "      <td>67723</td>\n",
       "      <td>MAITRE PRUNILLE S.A.S.(MP(EUR</td>\n",
       "      <td>FRES          H.</td>\n",
       "      <td>Fresh</td>\n",
       "      <td>PRODUC        E.</td>\n",
       "      <td>Produce</td>\n",
       "      <td>PREPARE       D.</td>\n",
       "      <td>Prepared Salad, Fruit &amp; Veg</td>\n",
       "      <td>...</td>\n",
       "      <td>5</td>\n",
       "      <td>1</td>\n",
       "      <td>NaN</td>\n",
       "      <td>NaN</td>\n",
       "      <td>NaN</td>\n",
       "      <td>no match</td>\n",
       "      <td>1555657.0</td>\n",
       "      <td>MAITRE PRUNILLEDRIEDFRUITNUT S.</td>\n",
       "      <td>MAITRE PRUNILLEDRIEDFRUITNUT S.</td>\n",
       "      <td>True</td>\n",
       "    </tr>\n",
       "  </tbody>\n",
       "</table>\n",
       "<p>5 rows × 28 columns</p>\n",
       "</div>"
      ],
      "text/plain": [
       "                   lookup      Origin  Supplier_Number  \\\n",
       "8   54364HOMEBAK       E.  Commercial            54364   \n",
       "15  64784FBAKERYORDERABL.  Commercial            64784   \n",
       "19  11575CHILLED SNACK S.  Commercial            11575   \n",
       "35  61961PREPVE        G.  Commercial            61961   \n",
       "77  67723DRIEDFRUITNUT S.  Commercial            67723   \n",
       "\n",
       "                    Supplier_Name Commercial_Director Commercial_Area  \\\n",
       "8         SWAN MILL PAPER CO.LTD.    PACKAGE       D.        Packaged   \n",
       "15              PANELTO FOODS LTD    FRES          H.           Fresh   \n",
       "19          PORK FARMS LIMITED(VF    FRES          H.           Fresh   \n",
       "35            KANES FOODS LTD (FF    FRES          H.           Fresh   \n",
       "77  MAITRE PRUNILLE S.A.S.(MP(EUR    FRES          H.           Fresh   \n",
       "\n",
       "   Category_Director   Category_Area Buying_Controller  \\\n",
       "8   GROCER        Y.         Grocery  CLASSIC GROCERY.   \n",
       "15  BAKERY&DAIR   Y.  Bakery & Dairy  IN STORE BA   K.   \n",
       "19  PREPARED FOOD S.  Prepared Foods  CHILLE        D.   \n",
       "35  PRODUC        E.         Produce  PREPARE       D.   \n",
       "77  PRODUC        E.         Produce  PREPARE       D.   \n",
       "\n",
       "                   Product_Area  ... OBL Count Count Supplier Name from TQC  \\\n",
       "8               Classic Grocery  ...         4     0                    NaN   \n",
       "15               Instore Bakery  ...        16     0                    NaN   \n",
       "19                      Chilled  ...         3     0                    NaN   \n",
       "35  Prepared Salad, Fruit & Veg  ...         3     0                    NaN   \n",
       "77  Prepared Salad, Fruit & Veg  ...         5     1                    NaN   \n",
       "\n",
       "   Supplier Code from TQC Supplier Number from TQC    Match?        COGS  \\\n",
       "8                     NaN                      NaN  no match         7.0   \n",
       "15                    NaN                      NaN  no match  12575979.0   \n",
       "19                    NaN                      NaN  no match     18022.0   \n",
       "35                    NaN                      NaN  no match        19.0   \n",
       "77                    NaN                      NaN  no match   1555657.0   \n",
       "\n",
       "                           Parent_Junior_Combo  \\\n",
       "8   SWAN MILL PAPER AND CO LTDHOMEBAK       E.   \n",
       "15           PANELTO FOODS LTDFBAKERYORDERABL.   \n",
       "19             ADDO FOOD GROUPCHILLED SNACK S.   \n",
       "35             KANES FOODS LTDPREPVE        G.   \n",
       "77             MAITRE PRUNILLEDRIEDFRUITNUT S.   \n",
       "\n",
       "                           TQC_Supplier_Name_2   flag  \n",
       "8   SWAN MILL PAPER AND CO LTDHOMEBAK       E.   True  \n",
       "15           PANELTO FOODS LTDFBAKERYORDERABL.   True  \n",
       "19                             Kerry Foods Ltd  False  \n",
       "35             KANES FOODS LTDPREPVE        G.   True  \n",
       "77             MAITRE PRUNILLEDRIEDFRUITNUT S.   True  \n",
       "\n",
       "[5 rows x 28 columns]"
      ]
     },
     "execution_count": 50,
     "metadata": {},
     "output_type": "execute_result"
    }
   ],
   "source": [
    "non_matched['flag'] = np.where((non_matched['Parent_Junior_Combo'] == non_matched['TQC_Supplier_Name_2']),'True','False')\n",
    "non_matched.head()"
   ]
  },
  {
   "cell_type": "code",
   "execution_count": 51,
   "metadata": {},
   "outputs": [],
   "source": [
    "non_matched[non_matched['flag']=='False']\n",
    "non_matched.loc[(non_matched.flag == 'False'),'Supplier Name from TQC']=non_matched['TQC_Supplier_Name_2']\n",
    "non_matched[non_matched['flag']=='False']\n",
    "non_matched.to_excel('df_10.xlsx')"
   ]
  },
  {
   "cell_type": "code",
   "execution_count": 70,
   "metadata": {},
   "outputs": [
    {
     "data": {
      "text/plain": [
       "1424"
      ]
     },
     "execution_count": 70,
     "metadata": {},
     "output_type": "execute_result"
    }
   ],
   "source": [
    "total_matched_combo_2=df_Original_List[['Supplier_Name','Junior_Buyer','Supplier Name from TQC','Parent_Supplier_Name']][(df_Original_List['OBL Count']>0) & (df_Original_List['Supplier Name from TQC'].notnull())].drop_duplicates()\n",
    "len(total_matched_combo)"
   ]
  },
  {
   "cell_type": "code",
   "execution_count": 71,
   "metadata": {},
   "outputs": [
    {
     "data": {
      "text/plain": [
       "0    Bakkavor\n",
       "1    Bakkavor\n",
       "Name: Supplier_Name, dtype: object"
      ]
     },
     "execution_count": 71,
     "metadata": {},
     "output_type": "execute_result"
    }
   ],
   "source": [
    "total_matched_combo_2.head(2)\n",
    "tqc['Supplier_Name'].head(2)"
   ]
  },
  {
   "cell_type": "code",
   "execution_count": 72,
   "metadata": {},
   "outputs": [
    {
     "data": {
      "text/html": [
       "<div>\n",
       "<style scoped>\n",
       "    .dataframe tbody tr th:only-of-type {\n",
       "        vertical-align: middle;\n",
       "    }\n",
       "\n",
       "    .dataframe tbody tr th {\n",
       "        vertical-align: top;\n",
       "    }\n",
       "\n",
       "    .dataframe thead th {\n",
       "        text-align: right;\n",
       "    }\n",
       "</style>\n",
       "<table border=\"1\" class=\"dataframe\">\n",
       "  <thead>\n",
       "    <tr style=\"text-align: right;\">\n",
       "      <th></th>\n",
       "      <th>Supplier_Name</th>\n",
       "      <th>Junior_Buyer</th>\n",
       "      <th>Supplier Name from TQC</th>\n",
       "      <th>Parent_Supplier_Name</th>\n",
       "      <th>Comm_Supplier_Name</th>\n",
       "      <th>Site_Name</th>\n",
       "    </tr>\n",
       "  </thead>\n",
       "  <tbody>\n",
       "    <tr>\n",
       "      <th>0</th>\n",
       "      <td>FRIESLANDCAMPINANEDERLAND BV</td>\n",
       "      <td>SPECIALCHEES  E.</td>\n",
       "      <td>FrieslandCampina</td>\n",
       "      <td>FRIESLAND FOODS</td>\n",
       "      <td>FRIESLANDCAMPINANEDERLAND BV</td>\n",
       "      <td>FrieslandCampina Leerdam</td>\n",
       "    </tr>\n",
       "    <tr>\n",
       "      <th>1</th>\n",
       "      <td>FRIESLANDCAMPINANEDERLAND BV</td>\n",
       "      <td>SPECIALCHEES  E.</td>\n",
       "      <td>FrieslandCampina</td>\n",
       "      <td>FRIESLAND FOODS</td>\n",
       "      <td>FRIESLANDCAMPINANEDERLAND BV</td>\n",
       "      <td>FrieslandCampina Leerdam</td>\n",
       "    </tr>\n",
       "  </tbody>\n",
       "</table>\n",
       "</div>"
      ],
      "text/plain": [
       "                  Supplier_Name      Junior_Buyer Supplier Name from TQC  \\\n",
       "0  FRIESLANDCAMPINANEDERLAND BV  SPECIALCHEES  E.       FrieslandCampina   \n",
       "1  FRIESLANDCAMPINANEDERLAND BV  SPECIALCHEES  E.       FrieslandCampina   \n",
       "\n",
       "  Parent_Supplier_Name            Comm_Supplier_Name                 Site_Name  \n",
       "0      FRIESLAND FOODS  FRIESLANDCAMPINANEDERLAND BV  FrieslandCampina Leerdam  \n",
       "1      FRIESLAND FOODS  FRIESLANDCAMPINANEDERLAND BV  FrieslandCampina Leerdam  "
      ]
     },
     "execution_count": 72,
     "metadata": {},
     "output_type": "execute_result"
    }
   ],
   "source": [
    "total_matched_combo_2=total_matched_combo_2.merge(tqc[['Comm_Supplier_Name','Junior_Buyer','Site_Name']],left_on=['Supplier_Name','Junior_Buyer'],right_on=['Comm_Supplier_Name','Junior_Buyer'],how='left')\n",
    "total_matched_combo_2.head(2)"
   ]
  },
  {
   "cell_type": "code",
   "execution_count": 73,
   "metadata": {},
   "outputs": [
    {
     "data": {
      "text/html": [
       "<div>\n",
       "<style scoped>\n",
       "    .dataframe tbody tr th:only-of-type {\n",
       "        vertical-align: middle;\n",
       "    }\n",
       "\n",
       "    .dataframe tbody tr th {\n",
       "        vertical-align: top;\n",
       "    }\n",
       "\n",
       "    .dataframe thead th {\n",
       "        text-align: right;\n",
       "    }\n",
       "</style>\n",
       "<table border=\"1\" class=\"dataframe\">\n",
       "  <thead>\n",
       "    <tr style=\"text-align: right;\">\n",
       "      <th></th>\n",
       "      <th>Supplier_Name</th>\n",
       "      <th>Junior_Buyer</th>\n",
       "      <th>Supplier Name from TQC</th>\n",
       "      <th>Parent_Supplier_Name</th>\n",
       "      <th>Comm_Supplier_Name</th>\n",
       "      <th>Site_Name</th>\n",
       "      <th>Match1</th>\n",
       "      <th>Match2</th>\n",
       "      <th>Match3</th>\n",
       "    </tr>\n",
       "  </thead>\n",
       "  <tbody>\n",
       "    <tr>\n",
       "      <th>0</th>\n",
       "      <td>FRIESLANDCAMPINANEDERLAND BV</td>\n",
       "      <td>SPECIALCHEES  E.</td>\n",
       "      <td>FrieslandCampina</td>\n",
       "      <td>FRIESLAND FOODS</td>\n",
       "      <td>FRIESLANDCAMPINANEDERLAND BV</td>\n",
       "      <td>FrieslandCampina Leerdam</td>\n",
       "      <td>73</td>\n",
       "      <td>77</td>\n",
       "      <td>58</td>\n",
       "    </tr>\n",
       "    <tr>\n",
       "      <th>1</th>\n",
       "      <td>FRIESLANDCAMPINANEDERLAND BV</td>\n",
       "      <td>SPECIALCHEES  E.</td>\n",
       "      <td>FrieslandCampina</td>\n",
       "      <td>FRIESLAND FOODS</td>\n",
       "      <td>FRIESLANDCAMPINANEDERLAND BV</td>\n",
       "      <td>FrieslandCampina Leerdam</td>\n",
       "      <td>73</td>\n",
       "      <td>77</td>\n",
       "      <td>58</td>\n",
       "    </tr>\n",
       "    <tr>\n",
       "      <th>2</th>\n",
       "      <td>FRIESLANDCAMPINANEDERLAND BV</td>\n",
       "      <td>SPECIALCHEES  E.</td>\n",
       "      <td>FrieslandCampina</td>\n",
       "      <td>FRIESLAND FOODS</td>\n",
       "      <td>FRIESLANDCAMPINANEDERLAND BV</td>\n",
       "      <td>FrieslandCampina Leerdam</td>\n",
       "      <td>73</td>\n",
       "      <td>77</td>\n",
       "      <td>58</td>\n",
       "    </tr>\n",
       "    <tr>\n",
       "      <th>3</th>\n",
       "      <td>BAKKAVOR SPALDING(FF(VF</td>\n",
       "      <td>CHILLED PIZZ  A.</td>\n",
       "      <td>Bakkavor</td>\n",
       "      <td>BAKKAVOR</td>\n",
       "      <td>BAKKAVOR SPALDING(FF(VF</td>\n",
       "      <td>Bakkavör Salads Spalding - Delicatessen</td>\n",
       "      <td>52</td>\n",
       "      <td>58</td>\n",
       "      <td>100</td>\n",
       "    </tr>\n",
       "    <tr>\n",
       "      <th>4</th>\n",
       "      <td>BAKKAVOR SPALDING(FF(VF</td>\n",
       "      <td>CHILLED PIZZ  A.</td>\n",
       "      <td>Bakkavor</td>\n",
       "      <td>BAKKAVOR</td>\n",
       "      <td>BAKKAVOR SPALDING(FF(VF</td>\n",
       "      <td>Bakkavör Salads Spalding - Delicatessen</td>\n",
       "      <td>52</td>\n",
       "      <td>58</td>\n",
       "      <td>100</td>\n",
       "    </tr>\n",
       "  </tbody>\n",
       "</table>\n",
       "</div>"
      ],
      "text/plain": [
       "                  Supplier_Name      Junior_Buyer Supplier Name from TQC  \\\n",
       "0  FRIESLANDCAMPINANEDERLAND BV  SPECIALCHEES  E.       FrieslandCampina   \n",
       "1  FRIESLANDCAMPINANEDERLAND BV  SPECIALCHEES  E.       FrieslandCampina   \n",
       "2  FRIESLANDCAMPINANEDERLAND BV  SPECIALCHEES  E.       FrieslandCampina   \n",
       "3       BAKKAVOR SPALDING(FF(VF  CHILLED PIZZ  A.               Bakkavor   \n",
       "4       BAKKAVOR SPALDING(FF(VF  CHILLED PIZZ  A.               Bakkavor   \n",
       "\n",
       "  Parent_Supplier_Name            Comm_Supplier_Name  \\\n",
       "0      FRIESLAND FOODS  FRIESLANDCAMPINANEDERLAND BV   \n",
       "1      FRIESLAND FOODS  FRIESLANDCAMPINANEDERLAND BV   \n",
       "2      FRIESLAND FOODS  FRIESLANDCAMPINANEDERLAND BV   \n",
       "3             BAKKAVOR       BAKKAVOR SPALDING(FF(VF   \n",
       "4             BAKKAVOR       BAKKAVOR SPALDING(FF(VF   \n",
       "\n",
       "                                 Site_Name  Match1  Match2  Match3  \n",
       "0                 FrieslandCampina Leerdam      73      77      58  \n",
       "1                 FrieslandCampina Leerdam      73      77      58  \n",
       "2                 FrieslandCampina Leerdam      73      77      58  \n",
       "3  Bakkavör Salads Spalding - Delicatessen      52      58     100  \n",
       "4  Bakkavör Salads Spalding - Delicatessen      52      58     100  "
      ]
     },
     "execution_count": 73,
     "metadata": {},
     "output_type": "execute_result"
    }
   ],
   "source": [
    "match=[]\n",
    "match_2=[]\n",
    "match_3=[]\n",
    "for k in range(0,len(total_matched_combo_2)):\n",
    "    match.append(fuzz.token_sort_ratio(total_matched_combo_2['Supplier_Name'].iloc[k],total_matched_combo_2['Supplier Name from TQC'].iloc[k]))\n",
    "    match_2.append(fuzz.token_sort_ratio(total_matched_combo_2['Supplier_Name'].iloc[k],total_matched_combo_2['Site_Name'].iloc[k]))\n",
    "    match_3.append(fuzz.token_sort_ratio(total_matched_combo_2['Supplier Name from TQC'].iloc[k],total_matched_combo_2['Parent_Supplier_Name'].iloc[k]))\n",
    "    \n",
    "total_matched_combo_2['Match1']=match\n",
    "total_matched_combo_2['Match2']=match_2\n",
    "total_matched_combo_2['Match3']=match_3\n",
    "\n",
    "total_matched_combo_2.head()\n"
   ]
  },
  {
   "cell_type": "code",
   "execution_count": 74,
   "metadata": {},
   "outputs": [],
   "source": [
    "total_matched_combo_2.to_excel('df_6.xlsx')"
   ]
  },
  {
   "cell_type": "code",
   "execution_count": null,
   "metadata": {},
   "outputs": [],
   "source": []
  }
 ],
 "metadata": {
  "kernelspec": {
   "display_name": "Python 3",
   "language": "python",
   "name": "python3"
  },
  "language_info": {
   "codemirror_mode": {
    "name": "ipython",
    "version": 3
   },
   "file_extension": ".py",
   "mimetype": "text/x-python",
   "name": "python",
   "nbconvert_exporter": "python",
   "pygments_lexer": "ipython3",
   "version": "3.7.6"
  }
 },
 "nbformat": 4,
 "nbformat_minor": 2
}
