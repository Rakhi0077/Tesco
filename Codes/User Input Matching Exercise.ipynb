{
 "cells": [
  {
   "cell_type": "code",
   "execution_count": 1,
   "metadata": {},
   "outputs": [],
   "source": [
    "import pandas as pd\n",
    "import numpy as np\n"
   ]
  },
  {
   "cell_type": "code",
   "execution_count": 27,
   "metadata": {},
   "outputs": [],
   "source": [
    "# df=pd.read_excel(r'C:\\Users\\IN22912959\\OneDrive - Tesco\\Documents\\Supplier Score Card\\New folder\\User Input Anurag.xlsx')\n",
    "# aud=pd.read_excel(r'C:\\Users\\IN22912959\\OneDrive - Tesco\\Documents\\Supplier Score Card\\New folder\\Audits.xlsx')\n",
    "comm=pd.read_excel(r'C:\\Users\\IN22912959\\OneDrive - Tesco\\Documents\\Supplier Score Card\\New folder\\TFMS Analysis Template Dec 8.xlsx',sheet_name='Commercial Data')\n"
   ]
  },
  {
   "cell_type": "code",
   "execution_count": 3,
   "metadata": {},
   "outputs": [],
   "source": [
    "user_input=df.copy()\n",
    "audits=aud.copy()\n",
    "commercial=comm.copy()"
   ]
  },
  {
   "cell_type": "code",
   "execution_count": 4,
   "metadata": {},
   "outputs": [
    {
     "data": {
      "text/html": [
       "<div>\n",
       "<style scoped>\n",
       "    .dataframe tbody tr th:only-of-type {\n",
       "        vertical-align: middle;\n",
       "    }\n",
       "\n",
       "    .dataframe tbody tr th {\n",
       "        vertical-align: top;\n",
       "    }\n",
       "\n",
       "    .dataframe thead th {\n",
       "        text-align: right;\n",
       "    }\n",
       "</style>\n",
       "<table border=\"1\" class=\"dataframe\">\n",
       "  <thead>\n",
       "    <tr style=\"text-align: right;\">\n",
       "      <th></th>\n",
       "      <th>Category</th>\n",
       "      <th>Supplier Number</th>\n",
       "      <th>Supplier_Name</th>\n",
       "      <th>Junior_Buyer</th>\n",
       "      <th>Comment</th>\n",
       "      <th>Site 1</th>\n",
       "      <th>Site 2</th>\n",
       "      <th>Site 3</th>\n",
       "      <th>Site 4</th>\n",
       "      <th>Site 5</th>\n",
       "      <th>Site 6</th>\n",
       "      <th>Site 7</th>\n",
       "      <th>Site 8</th>\n",
       "      <th>Site 9</th>\n",
       "      <th>Site 10</th>\n",
       "    </tr>\n",
       "  </thead>\n",
       "  <tbody>\n",
       "    <tr>\n",
       "      <th>0</th>\n",
       "      <td>Household &amp; Pet</td>\n",
       "      <td>12095</td>\n",
       "      <td>ACDOCO LTD</td>\n",
       "      <td>ADDITIVE      S.</td>\n",
       "      <td>De-listed</td>\n",
       "      <td>NaN</td>\n",
       "      <td>NaN</td>\n",
       "      <td>NaN</td>\n",
       "      <td>NaN</td>\n",
       "      <td>NaN</td>\n",
       "      <td>NaN</td>\n",
       "      <td>NaN</td>\n",
       "      <td>NaN</td>\n",
       "      <td>NaN</td>\n",
       "      <td>NaN</td>\n",
       "    </tr>\n",
       "    <tr>\n",
       "      <th>1</th>\n",
       "      <td>Household &amp; Pet</td>\n",
       "      <td>14178</td>\n",
       "      <td>BOB MARTIN (UK) LTD</td>\n",
       "      <td>CATLITTE      R.</td>\n",
       "      <td>De-listed</td>\n",
       "      <td>NaN</td>\n",
       "      <td>NaN</td>\n",
       "      <td>NaN</td>\n",
       "      <td>NaN</td>\n",
       "      <td>NaN</td>\n",
       "      <td>NaN</td>\n",
       "      <td>NaN</td>\n",
       "      <td>NaN</td>\n",
       "      <td>NaN</td>\n",
       "      <td>NaN</td>\n",
       "    </tr>\n",
       "  </tbody>\n",
       "</table>\n",
       "</div>"
      ],
      "text/plain": [
       "          Category Supplier Number        Supplier_Name      Junior_Buyer  \\\n",
       "0  Household & Pet           12095           ACDOCO LTD  ADDITIVE      S.   \n",
       "1  Household & Pet           14178  BOB MARTIN (UK) LTD  CATLITTE      R.   \n",
       "\n",
       "     Comment Site 1 Site 2 Site 3 Site 4 Site 5 Site 6 Site 7 Site 8 Site 9  \\\n",
       "0  De-listed    NaN    NaN    NaN    NaN    NaN    NaN    NaN    NaN    NaN   \n",
       "1  De-listed    NaN    NaN    NaN    NaN    NaN    NaN    NaN    NaN    NaN   \n",
       "\n",
       "  Site 10  \n",
       "0     NaN  \n",
       "1     NaN  "
      ]
     },
     "execution_count": 4,
     "metadata": {},
     "output_type": "execute_result"
    }
   ],
   "source": [
    "user_input.head(2)"
   ]
  },
  {
   "cell_type": "code",
   "execution_count": 5,
   "metadata": {},
   "outputs": [
    {
     "data": {
      "text/plain": [
       "(587, 15)"
      ]
     },
     "execution_count": 5,
     "metadata": {},
     "output_type": "execute_result"
    }
   ],
   "source": [
    "user_input=user_input.fillna('Blank')\n",
    "user_input.head(20)\n",
    "user_input.shape"
   ]
  },
  {
   "cell_type": "code",
   "execution_count": 10,
   "metadata": {},
   "outputs": [],
   "source": [
    "df2=pd.melt(user_input, id_vars=['Junior_Buyer','Supplier Number','Supplier_Name'], value_vars=['Comment']+['Site '+str(x) for x in range(1,11)])"
   ]
  },
  {
   "cell_type": "code",
   "execution_count": 11,
   "metadata": {},
   "outputs": [
    {
     "data": {
      "text/html": [
       "<div>\n",
       "<style scoped>\n",
       "    .dataframe tbody tr th:only-of-type {\n",
       "        vertical-align: middle;\n",
       "    }\n",
       "\n",
       "    .dataframe tbody tr th {\n",
       "        vertical-align: top;\n",
       "    }\n",
       "\n",
       "    .dataframe thead th {\n",
       "        text-align: right;\n",
       "    }\n",
       "</style>\n",
       "<table border=\"1\" class=\"dataframe\">\n",
       "  <thead>\n",
       "    <tr style=\"text-align: right;\">\n",
       "      <th></th>\n",
       "      <th>Junior_Buyer</th>\n",
       "      <th>Supplier Number</th>\n",
       "      <th>Supplier_Name</th>\n",
       "      <th>variable</th>\n",
       "      <th>value</th>\n",
       "    </tr>\n",
       "  </thead>\n",
       "  <tbody>\n",
       "    <tr>\n",
       "      <th>0</th>\n",
       "      <td>ADDITIVE      S.</td>\n",
       "      <td>12095</td>\n",
       "      <td>ACDOCO LTD</td>\n",
       "      <td>Comment</td>\n",
       "      <td>De-listed</td>\n",
       "    </tr>\n",
       "    <tr>\n",
       "      <th>1</th>\n",
       "      <td>CATLITTE      R.</td>\n",
       "      <td>14178</td>\n",
       "      <td>BOB MARTIN (UK) LTD</td>\n",
       "      <td>Comment</td>\n",
       "      <td>De-listed</td>\n",
       "    </tr>\n",
       "  </tbody>\n",
       "</table>\n",
       "</div>"
      ],
      "text/plain": [
       "       Junior_Buyer Supplier Number        Supplier_Name variable      value\n",
       "0  ADDITIVE      S.           12095           ACDOCO LTD  Comment  De-listed\n",
       "1  CATLITTE      R.           14178  BOB MARTIN (UK) LTD  Comment  De-listed"
      ]
     },
     "execution_count": 11,
     "metadata": {},
     "output_type": "execute_result"
    }
   ],
   "source": [
    "df2.head(2)"
   ]
  },
  {
   "cell_type": "code",
   "execution_count": 12,
   "metadata": {},
   "outputs": [
    {
     "data": {
      "text/plain": [
       "array(['Comment', 'Site 1', 'Site 2', 'Site 3', 'Site 4', 'Site 5',\n",
       "       'Site 6', 'Site 7', 'Site 8', 'Site 9', 'Site 10'], dtype=object)"
      ]
     },
     "execution_count": 12,
     "metadata": {},
     "output_type": "execute_result"
    }
   ],
   "source": [
    "df3=df2[df2['variable']!=\"Comments\"]\n",
    "df4=df3[df3['value']!=\"Blank\"]\n",
    "df4.variable.unique()"
   ]
  },
  {
   "cell_type": "code",
   "execution_count": 13,
   "metadata": {},
   "outputs": [
    {
     "data": {
      "text/html": [
       "<div>\n",
       "<style scoped>\n",
       "    .dataframe tbody tr th:only-of-type {\n",
       "        vertical-align: middle;\n",
       "    }\n",
       "\n",
       "    .dataframe tbody tr th {\n",
       "        vertical-align: top;\n",
       "    }\n",
       "\n",
       "    .dataframe thead th {\n",
       "        text-align: right;\n",
       "    }\n",
       "</style>\n",
       "<table border=\"1\" class=\"dataframe\">\n",
       "  <thead>\n",
       "    <tr style=\"text-align: right;\">\n",
       "      <th></th>\n",
       "      <th>Junior_Buyer</th>\n",
       "      <th>Supplier Number</th>\n",
       "      <th>Supplier_Name</th>\n",
       "      <th>variable</th>\n",
       "      <th>value</th>\n",
       "    </tr>\n",
       "  </thead>\n",
       "  <tbody>\n",
       "    <tr>\n",
       "      <th>0</th>\n",
       "      <td>ADDITIVE      S.</td>\n",
       "      <td>12095</td>\n",
       "      <td>ACDOCO LTD</td>\n",
       "      <td>Comment</td>\n",
       "      <td>De-listed</td>\n",
       "    </tr>\n",
       "    <tr>\n",
       "      <th>1</th>\n",
       "      <td>CATLITTE      R.</td>\n",
       "      <td>14178</td>\n",
       "      <td>BOB MARTIN (UK) LTD</td>\n",
       "      <td>Comment</td>\n",
       "      <td>De-listed</td>\n",
       "    </tr>\n",
       "    <tr>\n",
       "      <th>2</th>\n",
       "      <td>DETERGENT     S.</td>\n",
       "      <td>46617</td>\n",
       "      <td>PERSAN SA</td>\n",
       "      <td>Comment</td>\n",
       "      <td>De-listed</td>\n",
       "    </tr>\n",
       "    <tr>\n",
       "      <th>3</th>\n",
       "      <td>TOILET PAPE   R.</td>\n",
       "      <td>53045</td>\n",
       "      <td>ESSITY UK LIMITED</td>\n",
       "      <td>Comment</td>\n",
       "      <td>De-listed</td>\n",
       "    </tr>\n",
       "    <tr>\n",
       "      <th>4</th>\n",
       "      <td>HOME ESSENTIALS.</td>\n",
       "      <td>54178</td>\n",
       "      <td>BORD NA MONA FUELS LTD</td>\n",
       "      <td>Comment</td>\n",
       "      <td>Not HHP Supplier</td>\n",
       "    </tr>\n",
       "  </tbody>\n",
       "</table>\n",
       "</div>"
      ],
      "text/plain": [
       "       Junior_Buyer Supplier Number           Supplier_Name variable  \\\n",
       "0  ADDITIVE      S.           12095              ACDOCO LTD  Comment   \n",
       "1  CATLITTE      R.           14178     BOB MARTIN (UK) LTD  Comment   \n",
       "2  DETERGENT     S.           46617               PERSAN SA  Comment   \n",
       "3  TOILET PAPE   R.           53045       ESSITY UK LIMITED  Comment   \n",
       "4  HOME ESSENTIALS.           54178  BORD NA MONA FUELS LTD  Comment   \n",
       "\n",
       "              value  \n",
       "0         De-listed  \n",
       "1         De-listed  \n",
       "2         De-listed  \n",
       "3         De-listed  \n",
       "4  Not HHP Supplier  "
      ]
     },
     "execution_count": 13,
     "metadata": {},
     "output_type": "execute_result"
    }
   ],
   "source": [
    "# df4.to_excel('Nisar.xlsx')\n",
    "df4.head(5)"
   ]
  },
  {
   "cell_type": "code",
   "execution_count": 14,
   "metadata": {},
   "outputs": [
    {
     "data": {
      "text/html": [
       "<div>\n",
       "<style scoped>\n",
       "    .dataframe tbody tr th:only-of-type {\n",
       "        vertical-align: middle;\n",
       "    }\n",
       "\n",
       "    .dataframe tbody tr th {\n",
       "        vertical-align: top;\n",
       "    }\n",
       "\n",
       "    .dataframe thead th {\n",
       "        text-align: right;\n",
       "    }\n",
       "</style>\n",
       "<table border=\"1\" class=\"dataframe\">\n",
       "  <thead>\n",
       "    <tr style=\"text-align: right;\">\n",
       "      <th></th>\n",
       "      <th>Junior_Buyer</th>\n",
       "      <th>Supplier Number</th>\n",
       "      <th>Supplier_Name</th>\n",
       "      <th>variable</th>\n",
       "      <th>value</th>\n",
       "    </tr>\n",
       "  </thead>\n",
       "  <tbody>\n",
       "    <tr>\n",
       "      <th>78</th>\n",
       "      <td>DESSERT1      S.</td>\n",
       "      <td>34645</td>\n",
       "      <td>SHS (GB) GROCERY FOOD</td>\n",
       "      <td>Comment</td>\n",
       "      <td>Condensed milk, evap milk &amp; light milk, Rice p...</td>\n",
       "    </tr>\n",
       "    <tr>\n",
       "      <th>79</th>\n",
       "      <td>HOMEBAK       E.</td>\n",
       "      <td>34645</td>\n",
       "      <td>SHS (GB) GROCERY FOOD</td>\n",
       "      <td>Comment</td>\n",
       "      <td>Brand or delisted cake batter mixes</td>\n",
       "    </tr>\n",
       "    <tr>\n",
       "      <th>665</th>\n",
       "      <td>DESSERT1      S.</td>\n",
       "      <td>34645</td>\n",
       "      <td>SHS (GB) GROCERY FOOD</td>\n",
       "      <td>Site 1</td>\n",
       "      <td>213582 - Bolswald condensed milk</td>\n",
       "    </tr>\n",
       "    <tr>\n",
       "      <th>1252</th>\n",
       "      <td>DESSERT1      S.</td>\n",
       "      <td>34645</td>\n",
       "      <td>SHS (GB) GROCERY FOOD</td>\n",
       "      <td>Site 2</td>\n",
       "      <td>4155- Hochwald evaporated milks</td>\n",
       "    </tr>\n",
       "    <tr>\n",
       "      <th>1839</th>\n",
       "      <td>DESSERT1      S.</td>\n",
       "      <td>34645</td>\n",
       "      <td>SHS (GB) GROCERY FOOD</td>\n",
       "      <td>Site 3</td>\n",
       "      <td>103014- Limelco canned rice puddings</td>\n",
       "    </tr>\n",
       "  </tbody>\n",
       "</table>\n",
       "</div>"
      ],
      "text/plain": [
       "          Junior_Buyer Supplier Number          Supplier_Name variable  \\\n",
       "78    DESSERT1      S.           34645  SHS (GB) GROCERY FOOD  Comment   \n",
       "79    HOMEBAK       E.           34645  SHS (GB) GROCERY FOOD  Comment   \n",
       "665   DESSERT1      S.           34645  SHS (GB) GROCERY FOOD   Site 1   \n",
       "1252  DESSERT1      S.           34645  SHS (GB) GROCERY FOOD   Site 2   \n",
       "1839  DESSERT1      S.           34645  SHS (GB) GROCERY FOOD   Site 3   \n",
       "\n",
       "                                                  value  \n",
       "78    Condensed milk, evap milk & light milk, Rice p...  \n",
       "79                  Brand or delisted cake batter mixes  \n",
       "665                    213582 - Bolswald condensed milk  \n",
       "1252                    4155- Hochwald evaporated milks  \n",
       "1839               103014- Limelco canned rice puddings  "
      ]
     },
     "execution_count": 14,
     "metadata": {},
     "output_type": "execute_result"
    }
   ],
   "source": [
    "df4[df4['Supplier_Name']=='SHS (GB) GROCERY FOOD']"
   ]
  },
  {
   "cell_type": "code",
   "execution_count": 97,
   "metadata": {},
   "outputs": [],
   "source": [
    "# df4['value']=str(df4['value'])"
   ]
  },
  {
   "cell_type": "code",
   "execution_count": 15,
   "metadata": {},
   "outputs": [
    {
     "data": {
      "text/plain": [
       "Junior_Buyer       object\n",
       "Supplier Number    object\n",
       "Supplier_Name      object\n",
       "variable           object\n",
       "value              object\n",
       "dtype: object"
      ]
     },
     "execution_count": 15,
     "metadata": {},
     "output_type": "execute_result"
    }
   ],
   "source": [
    "df4.dtypes"
   ]
  },
  {
   "cell_type": "code",
   "execution_count": 16,
   "metadata": {},
   "outputs": [
    {
     "data": {
      "text/html": [
       "<div>\n",
       "<style scoped>\n",
       "    .dataframe tbody tr th:only-of-type {\n",
       "        vertical-align: middle;\n",
       "    }\n",
       "\n",
       "    .dataframe tbody tr th {\n",
       "        vertical-align: top;\n",
       "    }\n",
       "\n",
       "    .dataframe thead th {\n",
       "        text-align: right;\n",
       "    }\n",
       "</style>\n",
       "<table border=\"1\" class=\"dataframe\">\n",
       "  <thead>\n",
       "    <tr style=\"text-align: right;\">\n",
       "      <th></th>\n",
       "      <th>Site_Code</th>\n",
       "      <th>Site_Name</th>\n",
       "      <th>Supplier_Code</th>\n",
       "      <th>Supplier_Name</th>\n",
       "    </tr>\n",
       "  </thead>\n",
       "  <tbody>\n",
       "    <tr>\n",
       "      <th>0</th>\n",
       "      <td>5010692</td>\n",
       "      <td>HB Gold Standard Site 1</td>\n",
       "      <td>A6900</td>\n",
       "      <td>HB Gold Standard Supplier</td>\n",
       "    </tr>\n",
       "    <tr>\n",
       "      <th>2</th>\n",
       "      <td>ON5</td>\n",
       "      <td>Costa de Huelva</td>\n",
       "      <td>67880</td>\n",
       "      <td>Onubafruit</td>\n",
       "    </tr>\n",
       "  </tbody>\n",
       "</table>\n",
       "</div>"
      ],
      "text/plain": [
       "  Site_Code                Site_Name Supplier_Code              Supplier_Name\n",
       "0   5010692  HB Gold Standard Site 1         A6900  HB Gold Standard Supplier\n",
       "2       ON5          Costa de Huelva         67880                 Onubafruit"
      ]
     },
     "execution_count": 16,
     "metadata": {},
     "output_type": "execute_result"
    }
   ],
   "source": [
    "cols=['Site_Code','Site_Name','Supplier_Code','Supplier_Name']\n",
    "aud_sites=aud[['Site Code','Site Name','Supplier Code','Supplier Name']].drop_duplicates()\n",
    "aud_sites.columns=cols\n",
    "aud_sites.head(2)"
   ]
  },
  {
   "cell_type": "code",
   "execution_count": 100,
   "metadata": {},
   "outputs": [],
   "source": [
    "# sites=tqc_sites[['Site_Code','Site_Name','Supplier_Code','Supplier_Name','Junior_Buyer']].drop_duplicates()"
   ]
  },
  {
   "cell_type": "code",
   "execution_count": 101,
   "metadata": {},
   "outputs": [],
   "source": [
    "# sites.to_excel('sites.xlsx')"
   ]
  },
  {
   "cell_type": "code",
   "execution_count": 102,
   "metadata": {},
   "outputs": [],
   "source": [
    "# sites.dtypes"
   ]
  },
  {
   "cell_type": "code",
   "execution_count": 103,
   "metadata": {},
   "outputs": [],
   "source": [
    "# df4.to_excel('Nisar.xlsx')\n"
   ]
  },
  {
   "cell_type": "code",
   "execution_count": 17,
   "metadata": {},
   "outputs": [
    {
     "name": "stderr",
     "output_type": "stream",
     "text": [
      "C:\\ProgramData\\Anaconda3\\lib\\site-packages\\ipykernel_launcher.py:3: SettingWithCopyWarning: \n",
      "A value is trying to be set on a copy of a slice from a DataFrame.\n",
      "Try using .loc[row_indexer,col_indexer] = value instead\n",
      "\n",
      "See the caveats in the documentation: https://pandas.pydata.org/pandas-docs/stable/user_guide/indexing.html#returning-a-view-versus-a-copy\n",
      "  This is separate from the ipykernel package so we can avoid doing imports until\n"
     ]
    }
   ],
   "source": [
    "df5=df4\n",
    "f = lambda x: str(x[\"value\"]).partition(\"-\")[0].strip()\n",
    "df5[\"Site_Codes\"] = df5.apply(f,axis=1)"
   ]
  },
  {
   "cell_type": "code",
   "execution_count": 18,
   "metadata": {},
   "outputs": [
    {
     "data": {
      "text/html": [
       "<div>\n",
       "<style scoped>\n",
       "    .dataframe tbody tr th:only-of-type {\n",
       "        vertical-align: middle;\n",
       "    }\n",
       "\n",
       "    .dataframe tbody tr th {\n",
       "        vertical-align: top;\n",
       "    }\n",
       "\n",
       "    .dataframe thead th {\n",
       "        text-align: right;\n",
       "    }\n",
       "</style>\n",
       "<table border=\"1\" class=\"dataframe\">\n",
       "  <thead>\n",
       "    <tr style=\"text-align: right;\">\n",
       "      <th></th>\n",
       "      <th>Junior_Buyer</th>\n",
       "      <th>Supplier Number</th>\n",
       "      <th>Supplier_Name</th>\n",
       "      <th>variable</th>\n",
       "      <th>value</th>\n",
       "      <th>Site_Codes</th>\n",
       "    </tr>\n",
       "  </thead>\n",
       "  <tbody>\n",
       "    <tr>\n",
       "      <th>665</th>\n",
       "      <td>DESSERT1      S.</td>\n",
       "      <td>34645</td>\n",
       "      <td>SHS (GB) GROCERY FOOD</td>\n",
       "      <td>Site 1</td>\n",
       "      <td>213582 - Bolswald condensed milk</td>\n",
       "      <td>213582</td>\n",
       "    </tr>\n",
       "  </tbody>\n",
       "</table>\n",
       "</div>"
      ],
      "text/plain": [
       "         Junior_Buyer Supplier Number          Supplier_Name variable  \\\n",
       "665  DESSERT1      S.           34645  SHS (GB) GROCERY FOOD   Site 1   \n",
       "\n",
       "                                value Site_Codes  \n",
       "665  213582 - Bolswald condensed milk     213582  "
      ]
     },
     "execution_count": 18,
     "metadata": {},
     "output_type": "execute_result"
    }
   ],
   "source": [
    "df5.to_excel('Nisar_2.xlsx')\n",
    "df5[df5['Site_Codes']=='213582']"
   ]
  },
  {
   "cell_type": "code",
   "execution_count": 21,
   "metadata": {},
   "outputs": [
    {
     "data": {
      "text/html": [
       "<div>\n",
       "<style scoped>\n",
       "    .dataframe tbody tr th:only-of-type {\n",
       "        vertical-align: middle;\n",
       "    }\n",
       "\n",
       "    .dataframe tbody tr th {\n",
       "        vertical-align: top;\n",
       "    }\n",
       "\n",
       "    .dataframe thead th {\n",
       "        text-align: right;\n",
       "    }\n",
       "</style>\n",
       "<table border=\"1\" class=\"dataframe\">\n",
       "  <thead>\n",
       "    <tr style=\"text-align: right;\">\n",
       "      <th></th>\n",
       "      <th>Junior_Buyer</th>\n",
       "      <th>Supplier Number</th>\n",
       "      <th>Supplier_Name</th>\n",
       "      <th>variable</th>\n",
       "      <th>value</th>\n",
       "      <th>Site_Codes</th>\n",
       "    </tr>\n",
       "  </thead>\n",
       "  <tbody>\n",
       "    <tr>\n",
       "      <th>305</th>\n",
       "      <td>DISHWASHIN    G.</td>\n",
       "      <td>69133</td>\n",
       "      <td>SUAVIZANTES Y PLASTIFICANTES B</td>\n",
       "      <td>Site 1</td>\n",
       "      <td>A8102-001</td>\n",
       "      <td>A8102-001</td>\n",
       "    </tr>\n",
       "    <tr>\n",
       "      <th>306</th>\n",
       "      <td>CATLITTE      R.</td>\n",
       "      <td>69155</td>\n",
       "      <td>MACROMIN LTD</td>\n",
       "      <td>Site 1</td>\n",
       "      <td>A8187-002</td>\n",
       "      <td>A8187-002</td>\n",
       "    </tr>\n",
       "  </tbody>\n",
       "</table>\n",
       "</div>"
      ],
      "text/plain": [
       "         Junior_Buyer Supplier Number                   Supplier_Name  \\\n",
       "305  DISHWASHIN    G.           69133  SUAVIZANTES Y PLASTIFICANTES B   \n",
       "306  CATLITTE      R.           69155                    MACROMIN LTD   \n",
       "\n",
       "    variable      value Site_Codes  \n",
       "305   Site 1  A8102-001  A8102-001  \n",
       "306   Site 1  A8187-002  A8187-002  "
      ]
     },
     "execution_count": 21,
     "metadata": {},
     "output_type": "execute_result"
    }
   ],
   "source": [
    "# sites=pd.read_excel(r'C:\\Users\\IN22912959\\sites.xlsx')\n",
    "feedback_sites=pd.read_excel(r'C:\\Users\\IN22912959\\Nisar_2.xlsx')\n",
    "feedback_sites[feedback_sites['variable']!='Comment'].head(2)"
   ]
  },
  {
   "cell_type": "code",
   "execution_count": 22,
   "metadata": {},
   "outputs": [
    {
     "data": {
      "text/html": [
       "<div>\n",
       "<style scoped>\n",
       "    .dataframe tbody tr th:only-of-type {\n",
       "        vertical-align: middle;\n",
       "    }\n",
       "\n",
       "    .dataframe tbody tr th {\n",
       "        vertical-align: top;\n",
       "    }\n",
       "\n",
       "    .dataframe thead th {\n",
       "        text-align: right;\n",
       "    }\n",
       "</style>\n",
       "<table border=\"1\" class=\"dataframe\">\n",
       "  <thead>\n",
       "    <tr style=\"text-align: right;\">\n",
       "      <th></th>\n",
       "      <th>Parent_Supplier</th>\n",
       "      <th>Parent_Supplier_name</th>\n",
       "      <th>Supplier_Number</th>\n",
       "      <th>Supplier_Name</th>\n",
       "      <th>Commercial_Director</th>\n",
       "      <th>Commercial_Area</th>\n",
       "      <th>Category_Director</th>\n",
       "      <th>Category_Area</th>\n",
       "      <th>Buying_Controller</th>\n",
       "      <th>Buyer_Area</th>\n",
       "      <th>Buyer</th>\n",
       "      <th>Junior_Buyer</th>\n",
       "      <th>Junior_Area</th>\n",
       "      <th>Product_Area</th>\n",
       "      <th>Status</th>\n",
       "      <th>COGS_TY</th>\n",
       "      <th>OBL_Count</th>\n",
       "      <th>BL_Count</th>\n",
       "    </tr>\n",
       "  </thead>\n",
       "  <tbody>\n",
       "    <tr>\n",
       "      <th>0</th>\n",
       "      <td>4723</td>\n",
       "      <td>OTL</td>\n",
       "      <td>65450</td>\n",
       "      <td>OTL</td>\n",
       "      <td>PACKAGE       D.</td>\n",
       "      <td>Packaged</td>\n",
       "      <td>HB&amp;WELLNES    S.</td>\n",
       "      <td>Health, Beauty &amp; Wellness</td>\n",
       "      <td>TOILETRIE     S.</td>\n",
       "      <td>Bathing &amp; Washing</td>\n",
       "      <td>BATHING&amp;WASHING.</td>\n",
       "      <td>WASHIN        G.</td>\n",
       "      <td>Washing</td>\n",
       "      <td>Toiletries</td>\n",
       "      <td>Yes</td>\n",
       "      <td>19638.919</td>\n",
       "      <td>0</td>\n",
       "      <td>216</td>\n",
       "    </tr>\n",
       "    <tr>\n",
       "      <th>1</th>\n",
       "      <td>6404</td>\n",
       "      <td>GOLDEN ACRE DAIRY FOODS LTD</td>\n",
       "      <td>63057</td>\n",
       "      <td>GOLDEN ACRE FOODS LTD</td>\n",
       "      <td>PACKAGE       D.</td>\n",
       "      <td>Packaged</td>\n",
       "      <td>GROCER        Y.</td>\n",
       "      <td>Grocery</td>\n",
       "      <td>INGREDS&amp;GLOBA L.</td>\n",
       "      <td>European, USA, Caribbean &amp; Kos</td>\n",
       "      <td>EUR USA CAR K O.</td>\n",
       "      <td>KOSHE         R.</td>\n",
       "      <td>Kosher</td>\n",
       "      <td>Ingredients &amp; Global Grocery</td>\n",
       "      <td>Yes</td>\n",
       "      <td>76057.291</td>\n",
       "      <td>0</td>\n",
       "      <td>3617</td>\n",
       "    </tr>\n",
       "  </tbody>\n",
       "</table>\n",
       "</div>"
      ],
      "text/plain": [
       "   Parent_Supplier         Parent_Supplier_name  Supplier_Number  \\\n",
       "0             4723                          OTL            65450   \n",
       "1             6404  GOLDEN ACRE DAIRY FOODS LTD            63057   \n",
       "\n",
       "           Supplier_Name Commercial_Director Commercial_Area  \\\n",
       "0                    OTL    PACKAGE       D.        Packaged   \n",
       "1  GOLDEN ACRE FOODS LTD    PACKAGE       D.        Packaged   \n",
       "\n",
       "  Category_Director              Category_Area Buying_Controller  \\\n",
       "0  HB&WELLNES    S.  Health, Beauty & Wellness  TOILETRIE     S.   \n",
       "1  GROCER        Y.                    Grocery  INGREDS&GLOBA L.   \n",
       "\n",
       "                       Buyer_Area             Buyer      Junior_Buyer  \\\n",
       "0               Bathing & Washing  BATHING&WASHING.  WASHIN        G.   \n",
       "1  European, USA, Caribbean & Kos  EUR USA CAR K O.  KOSHE         R.   \n",
       "\n",
       "  Junior_Area                  Product_Area Status    COGS_TY  OBL_Count  \\\n",
       "0     Washing                    Toiletries    Yes  19638.919          0   \n",
       "1      Kosher  Ingredients & Global Grocery    Yes  76057.291          0   \n",
       "\n",
       "   BL_Count  \n",
       "0       216  \n",
       "1      3617  "
      ]
     },
     "execution_count": 22,
     "metadata": {},
     "output_type": "execute_result"
    }
   ],
   "source": [
    "# df6=feedback_sites[['Supplier Number','Supplier_Name','Junior_Buyer','Site_Codes']].merge(sites,how='left',right_on=['Site_Code','Junior_Buyer'],left_on=['Site_Codes','Junior_Buyer'])\n",
    "# df6.head(2)\n",
    "comm.head(2)"
   ]
  },
  {
   "cell_type": "code",
   "execution_count": 23,
   "metadata": {},
   "outputs": [],
   "source": [
    "com_match=comm.merge(feedback_sites,how='left', left_on=['Supplier_Number','Junior_Buyer'],right_on=['Supplier Number','Junior_Buyer'])"
   ]
  },
  {
   "cell_type": "code",
   "execution_count": 33,
   "metadata": {},
   "outputs": [
    {
     "data": {
      "text/html": [
       "<div>\n",
       "<style scoped>\n",
       "    .dataframe tbody tr th:only-of-type {\n",
       "        vertical-align: middle;\n",
       "    }\n",
       "\n",
       "    .dataframe tbody tr th {\n",
       "        vertical-align: top;\n",
       "    }\n",
       "\n",
       "    .dataframe thead th {\n",
       "        text-align: right;\n",
       "    }\n",
       "</style>\n",
       "<table border=\"1\" class=\"dataframe\">\n",
       "  <thead>\n",
       "    <tr style=\"text-align: right;\">\n",
       "      <th></th>\n",
       "      <th>Parent_Supplier</th>\n",
       "      <th>Parent_Supplier_name</th>\n",
       "      <th>Supplier_Number</th>\n",
       "      <th>Supplier_Name_x</th>\n",
       "      <th>Commercial_Director</th>\n",
       "      <th>Commercial_Area</th>\n",
       "      <th>Category_Director</th>\n",
       "      <th>Category_Area</th>\n",
       "      <th>Buying_Controller</th>\n",
       "      <th>Buyer_Area</th>\n",
       "      <th>...</th>\n",
       "      <th>BL_Count</th>\n",
       "      <th>Supplier Number</th>\n",
       "      <th>Supplier_Name_y</th>\n",
       "      <th>variable</th>\n",
       "      <th>value</th>\n",
       "      <th>Site_Codes</th>\n",
       "      <th>Site_Code</th>\n",
       "      <th>Site_Name</th>\n",
       "      <th>Supplier_Code</th>\n",
       "      <th>Supplier_Name</th>\n",
       "    </tr>\n",
       "  </thead>\n",
       "  <tbody>\n",
       "    <tr>\n",
       "      <th>0</th>\n",
       "      <td>10505</td>\n",
       "      <td>ADDO FOOD GROUP</td>\n",
       "      <td>11575</td>\n",
       "      <td>PORK FARMS LIMITED(VF</td>\n",
       "      <td>FRES          H.</td>\n",
       "      <td>Fresh</td>\n",
       "      <td>PREPARED FOOD S.</td>\n",
       "      <td>Prepared Foods</td>\n",
       "      <td>CHILLE        D.</td>\n",
       "      <td>Pies, Savouries  &amp; Snacking</td>\n",
       "      <td>...</td>\n",
       "      <td>0</td>\n",
       "      <td>11575</td>\n",
       "      <td>PORK FARMS LIMITED(VF</td>\n",
       "      <td>Comment</td>\n",
       "      <td>Now owned by Kerry Foods</td>\n",
       "      <td>Now owned by Kerry Foods</td>\n",
       "      <td>NaN</td>\n",
       "      <td>NaN</td>\n",
       "      <td>NaN</td>\n",
       "      <td>NaN</td>\n",
       "    </tr>\n",
       "    <tr>\n",
       "      <th>1</th>\n",
       "      <td>10505</td>\n",
       "      <td>ADDO FOOD GROUP</td>\n",
       "      <td>11575</td>\n",
       "      <td>PORK FARMS LIMITED(VF</td>\n",
       "      <td>FRES          H.</td>\n",
       "      <td>Fresh</td>\n",
       "      <td>PREPARED FOOD S.</td>\n",
       "      <td>Prepared Foods</td>\n",
       "      <td>CHILLE        D.</td>\n",
       "      <td>Pies, Savouries  &amp; Snacking</td>\n",
       "      <td>...</td>\n",
       "      <td>0</td>\n",
       "      <td>11575</td>\n",
       "      <td>PORK FARMS LIMITED(VF</td>\n",
       "      <td>Site 1</td>\n",
       "      <td>2409 - Pork Farms</td>\n",
       "      <td>2409</td>\n",
       "      <td>2409</td>\n",
       "      <td>Pork Farms Caspian - Poole</td>\n",
       "      <td>29244</td>\n",
       "      <td>Kerry Foods Ltd</td>\n",
       "    </tr>\n",
       "  </tbody>\n",
       "</table>\n",
       "<p>2 rows × 27 columns</p>\n",
       "</div>"
      ],
      "text/plain": [
       "   Parent_Supplier Parent_Supplier_name Supplier_Number  \\\n",
       "0            10505      ADDO FOOD GROUP           11575   \n",
       "1            10505      ADDO FOOD GROUP           11575   \n",
       "\n",
       "         Supplier_Name_x Commercial_Director Commercial_Area  \\\n",
       "0  PORK FARMS LIMITED(VF    FRES          H.           Fresh   \n",
       "1  PORK FARMS LIMITED(VF    FRES          H.           Fresh   \n",
       "\n",
       "  Category_Director   Category_Area Buying_Controller  \\\n",
       "0  PREPARED FOOD S.  Prepared Foods  CHILLE        D.   \n",
       "1  PREPARED FOOD S.  Prepared Foods  CHILLE        D.   \n",
       "\n",
       "                    Buyer_Area  ... BL_Count Supplier Number  \\\n",
       "0  Pies, Savouries  & Snacking  ...        0           11575   \n",
       "1  Pies, Savouries  & Snacking  ...        0           11575   \n",
       "\n",
       "         Supplier_Name_y variable                     value  \\\n",
       "0  PORK FARMS LIMITED(VF  Comment  Now owned by Kerry Foods   \n",
       "1  PORK FARMS LIMITED(VF   Site 1        2409 - Pork Farms    \n",
       "\n",
       "                 Site_Codes  Site_Code                   Site_Name  \\\n",
       "0  Now owned by Kerry Foods        NaN                         NaN   \n",
       "1                      2409       2409  Pork Farms Caspian - Poole   \n",
       "\n",
       "  Supplier_Code    Supplier_Name  \n",
       "0           NaN              NaN  \n",
       "1         29244  Kerry Foods Ltd  \n",
       "\n",
       "[2 rows x 27 columns]"
      ]
     },
     "execution_count": 33,
     "metadata": {},
     "output_type": "execute_result"
    }
   ],
   "source": [
    "com_match=com_match[com_match['Site_Codes'].notnull()]\n",
    "com_match_with_Supplier_Code=com_match.merge(aud_sites,how='left',left_on=['Site_Codes'],right_on=['Site_Code'])\n",
    "# com_match_with_Supplier_Code.to_excel('df2.xlsx')\n",
    "com_match_with_Supplier_Code.head(2)"
   ]
  },
  {
   "cell_type": "code",
   "execution_count": 111,
   "metadata": {},
   "outputs": [
    {
     "ename": "NameError",
     "evalue": "name 'tqc' is not defined",
     "output_type": "error",
     "traceback": [
      "\u001b[1;31m---------------------------------------------------------------------------\u001b[0m",
      "\u001b[1;31mNameError\u001b[0m                                 Traceback (most recent call last)",
      "\u001b[1;32m<ipython-input-111-ff9d46da59ac>\u001b[0m in \u001b[0;36m<module>\u001b[1;34m\u001b[0m\n\u001b[1;32m----> 1\u001b[1;33m \u001b[0mtqc\u001b[0m\u001b[1;33m.\u001b[0m\u001b[0mcolumns\u001b[0m\u001b[1;33m\u001b[0m\u001b[1;33m\u001b[0m\u001b[0m\n\u001b[0m\u001b[0;32m      2\u001b[0m \u001b[0mcols\u001b[0m\u001b[1;33m=\u001b[0m\u001b[1;33m[\u001b[0m\u001b[1;34m'Supplier_Code'\u001b[0m\u001b[1;33m,\u001b[0m\u001b[1;34m'Supplier_Name'\u001b[0m\u001b[1;33m,\u001b[0m\u001b[1;34m'Site_Code'\u001b[0m\u001b[1;33m,\u001b[0m\u001b[1;34m'Site_Name'\u001b[0m\u001b[1;33m,\u001b[0m\u001b[1;34m'Junior_Buyer'\u001b[0m\u001b[1;33m,\u001b[0m\u001b[1;34m'Comm_Supplier_Name'\u001b[0m\u001b[1;33m,\u001b[0m\u001b[1;34m'Supplier_Number'\u001b[0m\u001b[1;33m]\u001b[0m\u001b[1;33m\u001b[0m\u001b[1;33m\u001b[0m\u001b[0m\n\u001b[0;32m      3\u001b[0m \u001b[0mtqc_data\u001b[0m\u001b[1;33m=\u001b[0m\u001b[0mtqc\u001b[0m\u001b[1;33m[\u001b[0m\u001b[0mcols\u001b[0m\u001b[1;33m]\u001b[0m\u001b[1;33m.\u001b[0m\u001b[0mdrop_duplicates\u001b[0m\u001b[1;33m(\u001b[0m\u001b[1;33m)\u001b[0m\u001b[1;33m\u001b[0m\u001b[1;33m\u001b[0m\u001b[0m\n\u001b[0;32m      4\u001b[0m \u001b[0mtqc_not_matched\u001b[0m\u001b[1;33m=\u001b[0m\u001b[0mtqc_data\u001b[0m\u001b[1;33m[\u001b[0m\u001b[0mtqc_data\u001b[0m\u001b[1;33m[\u001b[0m\u001b[1;34m'Supplier_Number'\u001b[0m\u001b[1;33m]\u001b[0m\u001b[1;33m.\u001b[0m\u001b[0misnull\u001b[0m\u001b[1;33m(\u001b[0m\u001b[1;33m)\u001b[0m\u001b[1;33m]\u001b[0m\u001b[1;33m\u001b[0m\u001b[1;33m\u001b[0m\u001b[0m\n\u001b[0;32m      5\u001b[0m \u001b[0mtqc_not_matched\u001b[0m\u001b[1;33m.\u001b[0m\u001b[0mto_excel\u001b[0m\u001b[1;33m(\u001b[0m\u001b[1;34m'tqc_not_matched.xlsx'\u001b[0m\u001b[1;33m)\u001b[0m\u001b[1;33m\u001b[0m\u001b[1;33m\u001b[0m\u001b[0m\n",
      "\u001b[1;31mNameError\u001b[0m: name 'tqc' is not defined"
     ]
    }
   ],
   "source": [
    "# tqc.columns\n",
    "# cols=['Supplier_Code','Supplier_Name','Site_Code','Site_Name','Junior_Buyer','Comm_Supplier_Name','Supplier_Number']\n",
    "# tqc_data=tqc[cols].drop_duplicates()\n",
    "# tqc_not_matched=tqc_data[tqc_data['Supplier_Number'].isnull()]\n",
    "# tqc_not_matched.to_excel('tqc_not_matched.xlsx')\n",
    "# # tqc_not_matched[tqc_not_matched['Supplier_Name']=='FARMLEA FOODS']"
   ]
  },
  {
   "cell_type": "code",
   "execution_count": 37,
   "metadata": {},
   "outputs": [
    {
     "data": {
      "text/html": [
       "<div>\n",
       "<style scoped>\n",
       "    .dataframe tbody tr th:only-of-type {\n",
       "        vertical-align: middle;\n",
       "    }\n",
       "\n",
       "    .dataframe tbody tr th {\n",
       "        vertical-align: top;\n",
       "    }\n",
       "\n",
       "    .dataframe thead th {\n",
       "        text-align: right;\n",
       "    }\n",
       "</style>\n",
       "<table border=\"1\" class=\"dataframe\">\n",
       "  <thead>\n",
       "    <tr style=\"text-align: right;\">\n",
       "      <th></th>\n",
       "      <th>Supplier_Number</th>\n",
       "      <th>Supplier_Name</th>\n",
       "      <th>Junior_Buyer</th>\n",
       "      <th>Supplier Code from TQC</th>\n",
       "    </tr>\n",
       "  </thead>\n",
       "  <tbody>\n",
       "    <tr>\n",
       "      <th>0</th>\n",
       "      <td>65450</td>\n",
       "      <td>OTL</td>\n",
       "      <td>WASHIN        G.</td>\n",
       "      <td>NaN</td>\n",
       "    </tr>\n",
       "    <tr>\n",
       "      <th>1</th>\n",
       "      <td>63057</td>\n",
       "      <td>GOLDEN ACRE FOODS LTD</td>\n",
       "      <td>KOSHE         R.</td>\n",
       "      <td>NaN</td>\n",
       "    </tr>\n",
       "  </tbody>\n",
       "</table>\n",
       "</div>"
      ],
      "text/plain": [
       "   Supplier_Number          Supplier_Name      Junior_Buyer  \\\n",
       "0            65450                    OTL  WASHIN        G.   \n",
       "1            63057  GOLDEN ACRE FOODS LTD  KOSHE         R.   \n",
       "\n",
       "  Supplier Code from TQC  \n",
       "0                    NaN  \n",
       "1                    NaN  "
      ]
     },
     "execution_count": 37,
     "metadata": {},
     "output_type": "execute_result"
    }
   ],
   "source": [
    "comm.columns\n",
    "cols=['Supplier_Number','Supplier_Name','Junior_Buyer','Supplier Code from TQC']\n",
    "comm_data=comm[cols]\n",
    "comm_not_matched=comm_data[comm_data['Supplier Code from TQC'].isnull()]\n",
    "comm_not_matched.head(2)"
   ]
  },
  {
   "cell_type": "code",
   "execution_count": 38,
   "metadata": {},
   "outputs": [],
   "source": [
    "comm_matched=comm_not_matched.merge(com_match_with_Supplier_Code,how='left',left_on=['Supplier_Number','Junior_Buyer'],right_on=['Supplier Number','Junior_Buyer'])\n",
    "comm_matched_2=comm_matched[(comm_matched['Supplier Number'].notnull())&(comm_matched['Site_Code'].notnull())]"
   ]
  },
  {
   "cell_type": "code",
   "execution_count": 297,
   "metadata": {},
   "outputs": [],
   "source": [
    "tqc_match=tqc_not_matched.merge(df6,how='left',left_on=['Supplier_Number','Junior_Buyer'],right_on=['Supplier Number','Junior_Buyer'])\n",
    "# comm_matched_2=comm_matched[(comm_matched['Supplier Number'].notnull())&(comm_matched['Site_Code'].notnull())]"
   ]
  },
  {
   "cell_type": "code",
   "execution_count": 300,
   "metadata": {},
   "outputs": [],
   "source": [
    "tqc_match.to_excel('Nisar_4.xlsx')"
   ]
  },
  {
   "cell_type": "code",
   "execution_count": 39,
   "metadata": {},
   "outputs": [],
   "source": [
    "comm_matched_2.to_excel('Nisar_6.xlsx')"
   ]
  },
  {
   "cell_type": "code",
   "execution_count": null,
   "metadata": {},
   "outputs": [],
   "source": []
  }
 ],
 "metadata": {
  "kernelspec": {
   "display_name": "Python 3",
   "language": "python",
   "name": "python3"
  },
  "language_info": {
   "codemirror_mode": {
    "name": "ipython",
    "version": 3
   },
   "file_extension": ".py",
   "mimetype": "text/x-python",
   "name": "python",
   "nbconvert_exporter": "python",
   "pygments_lexer": "ipython3",
   "version": "3.7.6"
  }
 },
 "nbformat": 4,
 "nbformat_minor": 4
}
